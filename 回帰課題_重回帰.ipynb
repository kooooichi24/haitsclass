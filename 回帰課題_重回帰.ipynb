{
 "cells": [
  {
   "cell_type": "code",
   "execution_count": 3,
   "metadata": {
    "collapsed": true
   },
   "outputs": [],
   "source": [
    "# ライブラリのインポート\n",
    "import pandas as pd\n",
    "import numpy as np\n",
    "import matplotlib.pyplot as plt\n",
    "% matplotlib inline"
   ]
  },
  {
   "cell_type": "code",
   "execution_count": 4,
   "metadata": {
    "collapsed": true
   },
   "outputs": [],
   "source": [
    "# csvファイルの読み込み\n",
    "df_train = pd.read_csv('train.csv')\n",
    "df_test = pd.read_csv('test.csv')"
   ]
  },
  {
   "cell_type": "code",
   "execution_count": 5,
   "metadata": {},
   "outputs": [
    {
     "data": {
      "text/html": [
       "<div>\n",
       "<style>\n",
       "    .dataframe thead tr:only-child th {\n",
       "        text-align: right;\n",
       "    }\n",
       "\n",
       "    .dataframe thead th {\n",
       "        text-align: left;\n",
       "    }\n",
       "\n",
       "    .dataframe tbody tr th {\n",
       "        vertical-align: top;\n",
       "    }\n",
       "</style>\n",
       "<table border=\"1\" class=\"dataframe\">\n",
       "  <thead>\n",
       "    <tr style=\"text-align: right;\">\n",
       "      <th></th>\n",
       "      <th>1stFlrSF</th>\n",
       "      <th>2ndFlrSF</th>\n",
       "      <th>3SsnPorch</th>\n",
       "      <th>BedroomAbvGr</th>\n",
       "      <th>BsmtFinSF1</th>\n",
       "      <th>BsmtFinSF2</th>\n",
       "      <th>BsmtFullBath</th>\n",
       "      <th>BsmtHalfBath</th>\n",
       "      <th>BsmtUnfSF</th>\n",
       "      <th>EnclosedPorch</th>\n",
       "      <th>...</th>\n",
       "      <th>SaleType_ConLI</th>\n",
       "      <th>SaleType_ConLw</th>\n",
       "      <th>SaleType_New</th>\n",
       "      <th>SaleType_Oth</th>\n",
       "      <th>SaleType_WD</th>\n",
       "      <th>Street_Grvl</th>\n",
       "      <th>Street_Pave</th>\n",
       "      <th>Utilities_AllPub</th>\n",
       "      <th>Utilities_NoSeWa</th>\n",
       "      <th>SalePrice</th>\n",
       "    </tr>\n",
       "  </thead>\n",
       "  <tbody>\n",
       "    <tr>\n",
       "      <th>count</th>\n",
       "      <td>1460.000000</td>\n",
       "      <td>1460.000000</td>\n",
       "      <td>1460.000000</td>\n",
       "      <td>1460.000000</td>\n",
       "      <td>1460.000000</td>\n",
       "      <td>1460.000000</td>\n",
       "      <td>1460.000000</td>\n",
       "      <td>1460.000000</td>\n",
       "      <td>1460.000000</td>\n",
       "      <td>1460.000000</td>\n",
       "      <td>...</td>\n",
       "      <td>1460.000000</td>\n",
       "      <td>1460.000000</td>\n",
       "      <td>1460.000000</td>\n",
       "      <td>1460.000000</td>\n",
       "      <td>1460.000000</td>\n",
       "      <td>1460.000000</td>\n",
       "      <td>1460.000000</td>\n",
       "      <td>1460.000000</td>\n",
       "      <td>1460.000000</td>\n",
       "      <td>1460.000000</td>\n",
       "    </tr>\n",
       "    <tr>\n",
       "      <th>mean</th>\n",
       "      <td>1162.626712</td>\n",
       "      <td>346.992466</td>\n",
       "      <td>3.409589</td>\n",
       "      <td>2.866438</td>\n",
       "      <td>443.639726</td>\n",
       "      <td>46.549315</td>\n",
       "      <td>0.425342</td>\n",
       "      <td>0.057534</td>\n",
       "      <td>567.240411</td>\n",
       "      <td>21.954110</td>\n",
       "      <td>...</td>\n",
       "      <td>0.003425</td>\n",
       "      <td>0.003425</td>\n",
       "      <td>0.083562</td>\n",
       "      <td>0.002055</td>\n",
       "      <td>0.867808</td>\n",
       "      <td>0.004110</td>\n",
       "      <td>0.995890</td>\n",
       "      <td>0.999315</td>\n",
       "      <td>0.000685</td>\n",
       "      <td>180921.195890</td>\n",
       "    </tr>\n",
       "    <tr>\n",
       "      <th>std</th>\n",
       "      <td>386.587738</td>\n",
       "      <td>436.528436</td>\n",
       "      <td>29.317331</td>\n",
       "      <td>0.815778</td>\n",
       "      <td>456.098091</td>\n",
       "      <td>161.319273</td>\n",
       "      <td>0.518911</td>\n",
       "      <td>0.238753</td>\n",
       "      <td>441.866955</td>\n",
       "      <td>61.119149</td>\n",
       "      <td>...</td>\n",
       "      <td>0.058440</td>\n",
       "      <td>0.058440</td>\n",
       "      <td>0.276824</td>\n",
       "      <td>0.045299</td>\n",
       "      <td>0.338815</td>\n",
       "      <td>0.063996</td>\n",
       "      <td>0.063996</td>\n",
       "      <td>0.026171</td>\n",
       "      <td>0.026171</td>\n",
       "      <td>79442.502883</td>\n",
       "    </tr>\n",
       "    <tr>\n",
       "      <th>min</th>\n",
       "      <td>334.000000</td>\n",
       "      <td>0.000000</td>\n",
       "      <td>0.000000</td>\n",
       "      <td>0.000000</td>\n",
       "      <td>0.000000</td>\n",
       "      <td>0.000000</td>\n",
       "      <td>0.000000</td>\n",
       "      <td>0.000000</td>\n",
       "      <td>0.000000</td>\n",
       "      <td>0.000000</td>\n",
       "      <td>...</td>\n",
       "      <td>0.000000</td>\n",
       "      <td>0.000000</td>\n",
       "      <td>0.000000</td>\n",
       "      <td>0.000000</td>\n",
       "      <td>0.000000</td>\n",
       "      <td>0.000000</td>\n",
       "      <td>0.000000</td>\n",
       "      <td>0.000000</td>\n",
       "      <td>0.000000</td>\n",
       "      <td>34900.000000</td>\n",
       "    </tr>\n",
       "    <tr>\n",
       "      <th>25%</th>\n",
       "      <td>882.000000</td>\n",
       "      <td>0.000000</td>\n",
       "      <td>0.000000</td>\n",
       "      <td>2.000000</td>\n",
       "      <td>0.000000</td>\n",
       "      <td>0.000000</td>\n",
       "      <td>0.000000</td>\n",
       "      <td>0.000000</td>\n",
       "      <td>223.000000</td>\n",
       "      <td>0.000000</td>\n",
       "      <td>...</td>\n",
       "      <td>0.000000</td>\n",
       "      <td>0.000000</td>\n",
       "      <td>0.000000</td>\n",
       "      <td>0.000000</td>\n",
       "      <td>1.000000</td>\n",
       "      <td>0.000000</td>\n",
       "      <td>1.000000</td>\n",
       "      <td>1.000000</td>\n",
       "      <td>0.000000</td>\n",
       "      <td>129975.000000</td>\n",
       "    </tr>\n",
       "    <tr>\n",
       "      <th>50%</th>\n",
       "      <td>1087.000000</td>\n",
       "      <td>0.000000</td>\n",
       "      <td>0.000000</td>\n",
       "      <td>3.000000</td>\n",
       "      <td>383.500000</td>\n",
       "      <td>0.000000</td>\n",
       "      <td>0.000000</td>\n",
       "      <td>0.000000</td>\n",
       "      <td>477.500000</td>\n",
       "      <td>0.000000</td>\n",
       "      <td>...</td>\n",
       "      <td>0.000000</td>\n",
       "      <td>0.000000</td>\n",
       "      <td>0.000000</td>\n",
       "      <td>0.000000</td>\n",
       "      <td>1.000000</td>\n",
       "      <td>0.000000</td>\n",
       "      <td>1.000000</td>\n",
       "      <td>1.000000</td>\n",
       "      <td>0.000000</td>\n",
       "      <td>163000.000000</td>\n",
       "    </tr>\n",
       "    <tr>\n",
       "      <th>75%</th>\n",
       "      <td>1391.250000</td>\n",
       "      <td>728.000000</td>\n",
       "      <td>0.000000</td>\n",
       "      <td>3.000000</td>\n",
       "      <td>712.250000</td>\n",
       "      <td>0.000000</td>\n",
       "      <td>1.000000</td>\n",
       "      <td>0.000000</td>\n",
       "      <td>808.000000</td>\n",
       "      <td>0.000000</td>\n",
       "      <td>...</td>\n",
       "      <td>0.000000</td>\n",
       "      <td>0.000000</td>\n",
       "      <td>0.000000</td>\n",
       "      <td>0.000000</td>\n",
       "      <td>1.000000</td>\n",
       "      <td>0.000000</td>\n",
       "      <td>1.000000</td>\n",
       "      <td>1.000000</td>\n",
       "      <td>0.000000</td>\n",
       "      <td>214000.000000</td>\n",
       "    </tr>\n",
       "    <tr>\n",
       "      <th>max</th>\n",
       "      <td>4692.000000</td>\n",
       "      <td>2065.000000</td>\n",
       "      <td>508.000000</td>\n",
       "      <td>8.000000</td>\n",
       "      <td>5644.000000</td>\n",
       "      <td>1474.000000</td>\n",
       "      <td>3.000000</td>\n",
       "      <td>2.000000</td>\n",
       "      <td>2336.000000</td>\n",
       "      <td>552.000000</td>\n",
       "      <td>...</td>\n",
       "      <td>1.000000</td>\n",
       "      <td>1.000000</td>\n",
       "      <td>1.000000</td>\n",
       "      <td>1.000000</td>\n",
       "      <td>1.000000</td>\n",
       "      <td>1.000000</td>\n",
       "      <td>1.000000</td>\n",
       "      <td>1.000000</td>\n",
       "      <td>1.000000</td>\n",
       "      <td>755000.000000</td>\n",
       "    </tr>\n",
       "  </tbody>\n",
       "</table>\n",
       "<p>8 rows × 271 columns</p>\n",
       "</div>"
      ],
      "text/plain": [
       "          1stFlrSF     2ndFlrSF    3SsnPorch  BedroomAbvGr   BsmtFinSF1  \\\n",
       "count  1460.000000  1460.000000  1460.000000   1460.000000  1460.000000   \n",
       "mean   1162.626712   346.992466     3.409589      2.866438   443.639726   \n",
       "std     386.587738   436.528436    29.317331      0.815778   456.098091   \n",
       "min     334.000000     0.000000     0.000000      0.000000     0.000000   \n",
       "25%     882.000000     0.000000     0.000000      2.000000     0.000000   \n",
       "50%    1087.000000     0.000000     0.000000      3.000000   383.500000   \n",
       "75%    1391.250000   728.000000     0.000000      3.000000   712.250000   \n",
       "max    4692.000000  2065.000000   508.000000      8.000000  5644.000000   \n",
       "\n",
       "        BsmtFinSF2  BsmtFullBath  BsmtHalfBath    BsmtUnfSF  EnclosedPorch  \\\n",
       "count  1460.000000   1460.000000   1460.000000  1460.000000    1460.000000   \n",
       "mean     46.549315      0.425342      0.057534   567.240411      21.954110   \n",
       "std     161.319273      0.518911      0.238753   441.866955      61.119149   \n",
       "min       0.000000      0.000000      0.000000     0.000000       0.000000   \n",
       "25%       0.000000      0.000000      0.000000   223.000000       0.000000   \n",
       "50%       0.000000      0.000000      0.000000   477.500000       0.000000   \n",
       "75%       0.000000      1.000000      0.000000   808.000000       0.000000   \n",
       "max    1474.000000      3.000000      2.000000  2336.000000     552.000000   \n",
       "\n",
       "           ...        SaleType_ConLI  SaleType_ConLw  SaleType_New  \\\n",
       "count      ...           1460.000000     1460.000000   1460.000000   \n",
       "mean       ...              0.003425        0.003425      0.083562   \n",
       "std        ...              0.058440        0.058440      0.276824   \n",
       "min        ...              0.000000        0.000000      0.000000   \n",
       "25%        ...              0.000000        0.000000      0.000000   \n",
       "50%        ...              0.000000        0.000000      0.000000   \n",
       "75%        ...              0.000000        0.000000      0.000000   \n",
       "max        ...              1.000000        1.000000      1.000000   \n",
       "\n",
       "       SaleType_Oth  SaleType_WD  Street_Grvl  Street_Pave  Utilities_AllPub  \\\n",
       "count   1460.000000  1460.000000  1460.000000  1460.000000       1460.000000   \n",
       "mean       0.002055     0.867808     0.004110     0.995890          0.999315   \n",
       "std        0.045299     0.338815     0.063996     0.063996          0.026171   \n",
       "min        0.000000     0.000000     0.000000     0.000000          0.000000   \n",
       "25%        0.000000     1.000000     0.000000     1.000000          1.000000   \n",
       "50%        0.000000     1.000000     0.000000     1.000000          1.000000   \n",
       "75%        0.000000     1.000000     0.000000     1.000000          1.000000   \n",
       "max        1.000000     1.000000     1.000000     1.000000          1.000000   \n",
       "\n",
       "       Utilities_NoSeWa      SalePrice  \n",
       "count       1460.000000    1460.000000  \n",
       "mean           0.000685  180921.195890  \n",
       "std            0.026171   79442.502883  \n",
       "min            0.000000   34900.000000  \n",
       "25%            0.000000  129975.000000  \n",
       "50%            0.000000  163000.000000  \n",
       "75%            0.000000  214000.000000  \n",
       "max            1.000000  755000.000000  \n",
       "\n",
       "[8 rows x 271 columns]"
      ]
     },
     "execution_count": 5,
     "metadata": {},
     "output_type": "execute_result"
    }
   ],
   "source": [
    "# データの詳細を出力\n",
    "df_train.describe()"
   ]
  },
  {
   "cell_type": "code",
   "execution_count": 6,
   "metadata": {},
   "outputs": [],
   "source": [
    "# 相関係数行列を確認\n",
    "a = df_train.corr()"
   ]
  },
  {
   "cell_type": "code",
   "execution_count": 7,
   "metadata": {
    "collapsed": true
   },
   "outputs": [],
   "source": [
    "# 目的変数であるSalePriceの相関係数を抽出する\n",
    "# s = df_train.corr()[\"SalePrice\"]"
   ]
  },
  {
   "cell_type": "code",
   "execution_count": 8,
   "metadata": {
    "collapsed": true
   },
   "outputs": [],
   "source": [
    "# SalePriceの相関係数を昇順にsortする\n",
    "# so = sorted(s)"
   ]
  },
  {
   "cell_type": "code",
   "execution_count": 9,
   "metadata": {},
   "outputs": [
    {
     "data": {
      "text/html": [
       "<div>\n",
       "<style>\n",
       "    .dataframe thead tr:only-child th {\n",
       "        text-align: right;\n",
       "    }\n",
       "\n",
       "    .dataframe thead th {\n",
       "        text-align: left;\n",
       "    }\n",
       "\n",
       "    .dataframe tbody tr th {\n",
       "        vertical-align: top;\n",
       "    }\n",
       "</style>\n",
       "<table border=\"1\" class=\"dataframe\">\n",
       "  <thead>\n",
       "    <tr style=\"text-align: right;\">\n",
       "      <th></th>\n",
       "      <th>1stFlrSF</th>\n",
       "      <th>2ndFlrSF</th>\n",
       "      <th>3SsnPorch</th>\n",
       "      <th>BedroomAbvGr</th>\n",
       "      <th>BsmtFinSF1</th>\n",
       "      <th>BsmtFinSF2</th>\n",
       "      <th>BsmtFullBath</th>\n",
       "      <th>BsmtHalfBath</th>\n",
       "      <th>BsmtUnfSF</th>\n",
       "      <th>EnclosedPorch</th>\n",
       "      <th>...</th>\n",
       "      <th>SaleType_ConLI</th>\n",
       "      <th>SaleType_ConLw</th>\n",
       "      <th>SaleType_New</th>\n",
       "      <th>SaleType_Oth</th>\n",
       "      <th>SaleType_WD</th>\n",
       "      <th>Street_Grvl</th>\n",
       "      <th>Street_Pave</th>\n",
       "      <th>Utilities_AllPub</th>\n",
       "      <th>Utilities_NoSeWa</th>\n",
       "      <th>SalePrice</th>\n",
       "    </tr>\n",
       "  </thead>\n",
       "  <tbody>\n",
       "    <tr>\n",
       "      <th>ExterQual_TA</th>\n",
       "      <td>-0.312844</td>\n",
       "      <td>-0.188984</td>\n",
       "      <td>-0.025626</td>\n",
       "      <td>0.036360</td>\n",
       "      <td>-0.128084</td>\n",
       "      <td>0.075127</td>\n",
       "      <td>-0.096217</td>\n",
       "      <td>0.076137</td>\n",
       "      <td>-0.282823</td>\n",
       "      <td>0.130818</td>\n",
       "      <td>...</td>\n",
       "      <td>-0.002482</td>\n",
       "      <td>-0.026643</td>\n",
       "      <td>-0.335148</td>\n",
       "      <td>0.035483</td>\n",
       "      <td>0.240734</td>\n",
       "      <td>-0.015958</td>\n",
       "      <td>0.015958</td>\n",
       "      <td>-0.020472</td>\n",
       "      <td>0.020472</td>\n",
       "      <td>-0.589044</td>\n",
       "    </tr>\n",
       "    <tr>\n",
       "      <th>KitchenQual_TA</th>\n",
       "      <td>-0.273566</td>\n",
       "      <td>-0.182739</td>\n",
       "      <td>-0.010519</td>\n",
       "      <td>0.017080</td>\n",
       "      <td>-0.108876</td>\n",
       "      <td>0.061258</td>\n",
       "      <td>-0.102007</td>\n",
       "      <td>0.032787</td>\n",
       "      <td>-0.218945</td>\n",
       "      <td>0.090396</td>\n",
       "      <td>...</td>\n",
       "      <td>-0.012126</td>\n",
       "      <td>-0.012126</td>\n",
       "      <td>-0.274335</td>\n",
       "      <td>0.045067</td>\n",
       "      <td>0.178612</td>\n",
       "      <td>0.042386</td>\n",
       "      <td>-0.042386</td>\n",
       "      <td>0.026360</td>\n",
       "      <td>-0.026360</td>\n",
       "      <td>-0.519298</td>\n",
       "    </tr>\n",
       "    <tr>\n",
       "      <th>BsmtQual_TA</th>\n",
       "      <td>-0.222508</td>\n",
       "      <td>-0.150144</td>\n",
       "      <td>-0.024260</td>\n",
       "      <td>0.089043</td>\n",
       "      <td>-0.121785</td>\n",
       "      <td>0.112889</td>\n",
       "      <td>-0.098442</td>\n",
       "      <td>0.067341</td>\n",
       "      <td>-0.122083</td>\n",
       "      <td>0.193447</td>\n",
       "      <td>...</td>\n",
       "      <td>0.018342</td>\n",
       "      <td>0.018342</td>\n",
       "      <td>-0.265143</td>\n",
       "      <td>-0.010153</td>\n",
       "      <td>0.161940</td>\n",
       "      <td>0.028718</td>\n",
       "      <td>-0.028718</td>\n",
       "      <td>-0.029266</td>\n",
       "      <td>0.029266</td>\n",
       "      <td>-0.452394</td>\n",
       "    </tr>\n",
       "    <tr>\n",
       "      <th>GarageFinish_Unf</th>\n",
       "      <td>-0.253960</td>\n",
       "      <td>-0.081906</td>\n",
       "      <td>-0.052794</td>\n",
       "      <td>0.009897</td>\n",
       "      <td>-0.179000</td>\n",
       "      <td>0.035795</td>\n",
       "      <td>-0.137590</td>\n",
       "      <td>0.053548</td>\n",
       "      <td>-0.128658</td>\n",
       "      <td>0.158564</td>\n",
       "      <td>...</td>\n",
       "      <td>-0.001712</td>\n",
       "      <td>-0.001712</td>\n",
       "      <td>-0.238934</td>\n",
       "      <td>-0.007466</td>\n",
       "      <td>0.172316</td>\n",
       "      <td>-0.010569</td>\n",
       "      <td>0.010569</td>\n",
       "      <td>0.022023</td>\n",
       "      <td>-0.022023</td>\n",
       "      <td>-0.410608</td>\n",
       "    </tr>\n",
       "    <tr>\n",
       "      <th>MasVnrType_None</th>\n",
       "      <td>-0.325566</td>\n",
       "      <td>-0.019491</td>\n",
       "      <td>-0.042266</td>\n",
       "      <td>-0.065965</td>\n",
       "      <td>-0.235217</td>\n",
       "      <td>0.071079</td>\n",
       "      <td>-0.116849</td>\n",
       "      <td>-0.039176</td>\n",
       "      <td>-0.121476</td>\n",
       "      <td>0.156023</td>\n",
       "      <td>...</td>\n",
       "      <td>0.000980</td>\n",
       "      <td>0.024834</td>\n",
       "      <td>-0.172209</td>\n",
       "      <td>0.037687</td>\n",
       "      <td>0.132540</td>\n",
       "      <td>0.009787</td>\n",
       "      <td>-0.009787</td>\n",
       "      <td>0.031521</td>\n",
       "      <td>-0.031521</td>\n",
       "      <td>-0.374468</td>\n",
       "    </tr>\n",
       "  </tbody>\n",
       "</table>\n",
       "<p>5 rows × 271 columns</p>\n",
       "</div>"
      ],
      "text/plain": [
       "                  1stFlrSF  2ndFlrSF  3SsnPorch  BedroomAbvGr  BsmtFinSF1  \\\n",
       "ExterQual_TA     -0.312844 -0.188984  -0.025626      0.036360   -0.128084   \n",
       "KitchenQual_TA   -0.273566 -0.182739  -0.010519      0.017080   -0.108876   \n",
       "BsmtQual_TA      -0.222508 -0.150144  -0.024260      0.089043   -0.121785   \n",
       "GarageFinish_Unf -0.253960 -0.081906  -0.052794      0.009897   -0.179000   \n",
       "MasVnrType_None  -0.325566 -0.019491  -0.042266     -0.065965   -0.235217   \n",
       "\n",
       "                  BsmtFinSF2  BsmtFullBath  BsmtHalfBath  BsmtUnfSF  \\\n",
       "ExterQual_TA        0.075127     -0.096217      0.076137  -0.282823   \n",
       "KitchenQual_TA      0.061258     -0.102007      0.032787  -0.218945   \n",
       "BsmtQual_TA         0.112889     -0.098442      0.067341  -0.122083   \n",
       "GarageFinish_Unf    0.035795     -0.137590      0.053548  -0.128658   \n",
       "MasVnrType_None     0.071079     -0.116849     -0.039176  -0.121476   \n",
       "\n",
       "                  EnclosedPorch    ...      SaleType_ConLI  SaleType_ConLw  \\\n",
       "ExterQual_TA           0.130818    ...           -0.002482       -0.026643   \n",
       "KitchenQual_TA         0.090396    ...           -0.012126       -0.012126   \n",
       "BsmtQual_TA            0.193447    ...            0.018342        0.018342   \n",
       "GarageFinish_Unf       0.158564    ...           -0.001712       -0.001712   \n",
       "MasVnrType_None        0.156023    ...            0.000980        0.024834   \n",
       "\n",
       "                  SaleType_New  SaleType_Oth  SaleType_WD  Street_Grvl  \\\n",
       "ExterQual_TA         -0.335148      0.035483     0.240734    -0.015958   \n",
       "KitchenQual_TA       -0.274335      0.045067     0.178612     0.042386   \n",
       "BsmtQual_TA          -0.265143     -0.010153     0.161940     0.028718   \n",
       "GarageFinish_Unf     -0.238934     -0.007466     0.172316    -0.010569   \n",
       "MasVnrType_None      -0.172209      0.037687     0.132540     0.009787   \n",
       "\n",
       "                  Street_Pave  Utilities_AllPub  Utilities_NoSeWa  SalePrice  \n",
       "ExterQual_TA         0.015958         -0.020472          0.020472  -0.589044  \n",
       "KitchenQual_TA      -0.042386          0.026360         -0.026360  -0.519298  \n",
       "BsmtQual_TA         -0.028718         -0.029266          0.029266  -0.452394  \n",
       "GarageFinish_Unf     0.010569          0.022023         -0.022023  -0.410608  \n",
       "MasVnrType_None     -0.009787          0.031521         -0.031521  -0.374468  \n",
       "\n",
       "[5 rows x 271 columns]"
      ]
     },
     "execution_count": 9,
     "metadata": {},
     "output_type": "execute_result"
    }
   ],
   "source": [
    "# 目的変数であるSalePriceの相関係数を昇順にする\n",
    "a1 = a.sort_values(by = [\"SalePrice\"], ascending=True)\n",
    "a1.head()"
   ]
  },
  {
   "cell_type": "code",
   "execution_count": 10,
   "metadata": {},
   "outputs": [
    {
     "data": {
      "text/plain": [
       "ExterQual_TA            -0.589044\n",
       "KitchenQual_TA          -0.519298\n",
       "BsmtQual_TA             -0.452394\n",
       "GarageFinish_Unf        -0.410608\n",
       "MasVnrType_None         -0.374468\n",
       "GarageType_Detchd       -0.354141\n",
       "Foundation_CBlock       -0.343263\n",
       "HeatingQC_TA            -0.312677\n",
       "MSZoning_RM             -0.288065\n",
       "LotShape_Reg            -0.267672\n",
       "BsmtExposure_No         -0.263600\n",
       "CentralAir_N            -0.251328\n",
       "SaleType_WD             -0.242598\n",
       "RoofStyle_Gable         -0.224744\n",
       "PavedDrive_N            -0.212630\n",
       "Foundation_BrkTil       -0.204117\n",
       "Electrical_FuseA        -0.193978\n",
       "Neighborhood_OldTown    -0.192189\n",
       "Neighborhood_NAmes      -0.188513\n",
       "Neighborhood_Edwards    -0.179949\n",
       "Exterior1st_MetalSd     -0.167068\n",
       "Neighborhood_IDOTRR     -0.164056\n",
       "HouseStyle_1.5Fin       -0.163466\n",
       "Exterior2nd_MetalSd     -0.162389\n",
       "Exterior2nd_Wd Sdng     -0.161800\n",
       "Exterior1st_Wd Sdng     -0.158619\n",
       "KitchenQual_Fa          -0.157199\n",
       "SaleCondition_Normal    -0.153990\n",
       "Neighborhood_BrkSide    -0.143648\n",
       "ExterCond_Fa            -0.137914\n",
       "                           ...   \n",
       "LotFrontage              0.329220\n",
       "Neighborhood_NoRidge     0.330424\n",
       "MasVnrType_Stone         0.330476\n",
       "GarageType_Attchd        0.335961\n",
       "SaleCondition_Partial    0.352060\n",
       "SaleType_New             0.357509\n",
       "BsmtFinSF1               0.386420\n",
       "GarageYrBlt              0.397778\n",
       "Neighborhood_NridgHt     0.402149\n",
       "GarageFinish_Fin         0.419678\n",
       "HeatingQC_Ex             0.434543\n",
       "BsmtFinType1_GLQ         0.434597\n",
       "ExterQual_Ex             0.451164\n",
       "ExterQual_Gd             0.452466\n",
       "Fireplaces               0.466929\n",
       "MasVnrArea               0.472614\n",
       "Foundation_PConc         0.497734\n",
       "KitchenQual_Ex           0.504094\n",
       "YearRemodAdd             0.507101\n",
       "YearBuilt                0.522897\n",
       "TotRmsAbvGrd             0.533723\n",
       "BsmtQual_Ex              0.553105\n",
       "FullBath                 0.560664\n",
       "1stFlrSF                 0.605852\n",
       "TotalBsmtSF              0.613581\n",
       "GarageArea               0.623431\n",
       "GarageCars               0.640409\n",
       "GrLivArea                0.708624\n",
       "OverallQual              0.790982\n",
       "SalePrice                1.000000\n",
       "Name: SalePrice, Length: 271, dtype: float64"
      ]
     },
     "execution_count": 10,
     "metadata": {},
     "output_type": "execute_result"
    }
   ],
   "source": [
    "# 目的変数であるSalePriceと説明変数の相関係数を抽出する\n",
    "sort_SalePrice_corr = a1[\"SalePrice\"]\n",
    "sort_SalePrice_corr"
   ]
  },
  {
   "cell_type": "code",
   "execution_count": 11,
   "metadata": {},
   "outputs": [
    {
     "data": {
      "text/plain": [
       "[0.61358055155919444,\n",
       " 0.62343143891835984,\n",
       " 0.64040919725834899,\n",
       " 0.70862447761265113,\n",
       " 0.79098160058380473,\n",
       " 1.0]"
      ]
     },
     "execution_count": 11,
     "metadata": {},
     "output_type": "execute_result"
    }
   ],
   "source": [
    "# 相関係数を絶対値の昇順にして確認する\n",
    "sort_abs_SalePrice_corr = sorted(abs(a1[\"SalePrice\"]))\n",
    "sort_abs_SalePrice_corr[-6:]"
   ]
  },
  {
   "cell_type": "code",
   "execution_count": 12,
   "metadata": {
    "collapsed": true
   },
   "outputs": [],
   "source": [
    "# 相関係数が大きい説明変数が分かった\n",
    "# 説明変数GarageArea, GarageCars, GrLivArea, OverallQualの4つを用いる\n",
    "# 特徴量の数が多いので､locメソッドで一部の特徴量のみを選択\n",
    "df_train_pickup = df_train.loc[:, ['GarageArea', 'GarageCars', 'GrLivArea', 'OverallQual', 'SalePrice']]"
   ]
  },
  {
   "cell_type": "code",
   "execution_count": 13,
   "metadata": {},
   "outputs": [
    {
     "data": {
      "text/html": [
       "<div>\n",
       "<style>\n",
       "    .dataframe thead tr:only-child th {\n",
       "        text-align: right;\n",
       "    }\n",
       "\n",
       "    .dataframe thead th {\n",
       "        text-align: left;\n",
       "    }\n",
       "\n",
       "    .dataframe tbody tr th {\n",
       "        vertical-align: top;\n",
       "    }\n",
       "</style>\n",
       "<table border=\"1\" class=\"dataframe\">\n",
       "  <thead>\n",
       "    <tr style=\"text-align: right;\">\n",
       "      <th></th>\n",
       "      <th>GarageArea</th>\n",
       "      <th>GarageCars</th>\n",
       "      <th>GrLivArea</th>\n",
       "      <th>OverallQual</th>\n",
       "      <th>SalePrice</th>\n",
       "    </tr>\n",
       "  </thead>\n",
       "  <tbody>\n",
       "    <tr>\n",
       "      <th>0</th>\n",
       "      <td>548.0</td>\n",
       "      <td>2.0</td>\n",
       "      <td>1710.0</td>\n",
       "      <td>7.0</td>\n",
       "      <td>208500</td>\n",
       "    </tr>\n",
       "    <tr>\n",
       "      <th>1</th>\n",
       "      <td>460.0</td>\n",
       "      <td>2.0</td>\n",
       "      <td>1262.0</td>\n",
       "      <td>6.0</td>\n",
       "      <td>181500</td>\n",
       "    </tr>\n",
       "    <tr>\n",
       "      <th>2</th>\n",
       "      <td>608.0</td>\n",
       "      <td>2.0</td>\n",
       "      <td>1786.0</td>\n",
       "      <td>7.0</td>\n",
       "      <td>223500</td>\n",
       "    </tr>\n",
       "    <tr>\n",
       "      <th>3</th>\n",
       "      <td>642.0</td>\n",
       "      <td>3.0</td>\n",
       "      <td>1717.0</td>\n",
       "      <td>7.0</td>\n",
       "      <td>140000</td>\n",
       "    </tr>\n",
       "    <tr>\n",
       "      <th>4</th>\n",
       "      <td>836.0</td>\n",
       "      <td>3.0</td>\n",
       "      <td>2198.0</td>\n",
       "      <td>8.0</td>\n",
       "      <td>250000</td>\n",
       "    </tr>\n",
       "  </tbody>\n",
       "</table>\n",
       "</div>"
      ],
      "text/plain": [
       "   GarageArea  GarageCars  GrLivArea  OverallQual  SalePrice\n",
       "0       548.0         2.0     1710.0          7.0     208500\n",
       "1       460.0         2.0     1262.0          6.0     181500\n",
       "2       608.0         2.0     1786.0          7.0     223500\n",
       "3       642.0         3.0     1717.0          7.0     140000\n",
       "4       836.0         3.0     2198.0          8.0     250000"
      ]
     },
     "execution_count": 13,
     "metadata": {},
     "output_type": "execute_result"
    }
   ],
   "source": [
    "# データが選択できているか確認\n",
    "df_train_pickup.head()"
   ]
  },
  {
   "cell_type": "code",
   "execution_count": 14,
   "metadata": {},
   "outputs": [
    {
     "data": {
      "image/png": "[encoded data removed]",
      "text/plain": [
       "<matplotlib.figure.Figure at 0x1a0cb19ef0>"
      ]
     },
     "metadata": {},
     "output_type": "display_data"
    }
   ],
   "source": [
    "# 散布図行列を出力\n",
    "import seaborn as sns\n",
    "sns.pairplot(df_train_pickup, size=2.0)\n",
    "plt.show()"
   ]
  },
  {
   "cell_type": "code",
   "execution_count": 15,
   "metadata": {},
   "outputs": [
    {
     "data": {
      "text/plain": [
       "count    1460.000000\n",
       "mean     1515.463699\n",
       "std       525.480383\n",
       "min       334.000000\n",
       "25%      1129.500000\n",
       "50%      1464.000000\n",
       "75%      1776.750000\n",
       "max      5642.000000\n",
       "Name: GrLivArea, dtype: float64"
      ]
     },
     "execution_count": 15,
     "metadata": {},
     "output_type": "execute_result"
    }
   ],
   "source": [
    "# GarageCarsのデータの詳細を確認\n",
    "df_train[\"GrLivArea\"].describe()"
   ]
  },
  {
   "cell_type": "code",
   "execution_count": 16,
   "metadata": {},
   "outputs": [
    {
     "data": {
      "text/plain": [
       "count    1460.000000\n",
       "mean        6.099315\n",
       "std         1.382997\n",
       "min         1.000000\n",
       "25%         5.000000\n",
       "50%         6.000000\n",
       "75%         7.000000\n",
       "max        10.000000\n",
       "Name: OverallQual, dtype: float64"
      ]
     },
     "execution_count": 16,
     "metadata": {},
     "output_type": "execute_result"
    }
   ],
   "source": [
    "# OverallQualのデータの詳細を確認\n",
    "df_train[\"OverallQual\"].describe()"
   ]
  },
  {
   "cell_type": "code",
   "execution_count": 17,
   "metadata": {
    "collapsed": true
   },
   "outputs": [],
   "source": [
    "# 4つの説明変数のうちGrLivAreaとOverallQualを選択し重回帰分析を行う。\n",
    "# 散布図を見ると直線的な傾向よりも曲線的な傾向の方が見られる。\n",
    "# 重回帰分析よりも多項式回帰が適切か？今回は学習のために重回帰分析で予測を行う。"
   ]
  },
  {
   "cell_type": "code",
   "execution_count": 18,
   "metadata": {},
   "outputs": [
    {
     "data": {
      "text/html": [
       "<div>\n",
       "<style>\n",
       "    .dataframe thead tr:only-child th {\n",
       "        text-align: right;\n",
       "    }\n",
       "\n",
       "    .dataframe thead th {\n",
       "        text-align: left;\n",
       "    }\n",
       "\n",
       "    .dataframe tbody tr th {\n",
       "        vertical-align: top;\n",
       "    }\n",
       "</style>\n",
       "<table border=\"1\" class=\"dataframe\">\n",
       "  <thead>\n",
       "    <tr style=\"text-align: right;\">\n",
       "      <th></th>\n",
       "      <th>1stFlrSF</th>\n",
       "      <th>2ndFlrSF</th>\n",
       "      <th>3SsnPorch</th>\n",
       "      <th>BedroomAbvGr</th>\n",
       "      <th>BsmtFinSF1</th>\n",
       "      <th>BsmtFinSF2</th>\n",
       "      <th>BsmtFullBath</th>\n",
       "      <th>BsmtHalfBath</th>\n",
       "      <th>BsmtUnfSF</th>\n",
       "      <th>EnclosedPorch</th>\n",
       "      <th>...</th>\n",
       "      <th>SaleType_ConLI</th>\n",
       "      <th>SaleType_ConLw</th>\n",
       "      <th>SaleType_New</th>\n",
       "      <th>SaleType_Oth</th>\n",
       "      <th>SaleType_WD</th>\n",
       "      <th>Street_Grvl</th>\n",
       "      <th>Street_Pave</th>\n",
       "      <th>Utilities_AllPub</th>\n",
       "      <th>Utilities_NoSeWa</th>\n",
       "      <th>SalePrice</th>\n",
       "    </tr>\n",
       "  </thead>\n",
       "  <tbody>\n",
       "    <tr>\n",
       "      <th>0</th>\n",
       "      <td>856.0</td>\n",
       "      <td>854.0</td>\n",
       "      <td>0.0</td>\n",
       "      <td>3.0</td>\n",
       "      <td>706.0</td>\n",
       "      <td>0.0</td>\n",
       "      <td>1.0</td>\n",
       "      <td>0.0</td>\n",
       "      <td>150.0</td>\n",
       "      <td>0.0</td>\n",
       "      <td>...</td>\n",
       "      <td>0.0</td>\n",
       "      <td>0.0</td>\n",
       "      <td>0.0</td>\n",
       "      <td>0.0</td>\n",
       "      <td>1.0</td>\n",
       "      <td>0.0</td>\n",
       "      <td>1.0</td>\n",
       "      <td>1.0</td>\n",
       "      <td>0.0</td>\n",
       "      <td>208500</td>\n",
       "    </tr>\n",
       "    <tr>\n",
       "      <th>1</th>\n",
       "      <td>1262.0</td>\n",
       "      <td>0.0</td>\n",
       "      <td>0.0</td>\n",
       "      <td>3.0</td>\n",
       "      <td>978.0</td>\n",
       "      <td>0.0</td>\n",
       "      <td>0.0</td>\n",
       "      <td>1.0</td>\n",
       "      <td>284.0</td>\n",
       "      <td>0.0</td>\n",
       "      <td>...</td>\n",
       "      <td>0.0</td>\n",
       "      <td>0.0</td>\n",
       "      <td>0.0</td>\n",
       "      <td>0.0</td>\n",
       "      <td>1.0</td>\n",
       "      <td>0.0</td>\n",
       "      <td>1.0</td>\n",
       "      <td>1.0</td>\n",
       "      <td>0.0</td>\n",
       "      <td>181500</td>\n",
       "    </tr>\n",
       "    <tr>\n",
       "      <th>2</th>\n",
       "      <td>920.0</td>\n",
       "      <td>866.0</td>\n",
       "      <td>0.0</td>\n",
       "      <td>3.0</td>\n",
       "      <td>486.0</td>\n",
       "      <td>0.0</td>\n",
       "      <td>1.0</td>\n",
       "      <td>0.0</td>\n",
       "      <td>434.0</td>\n",
       "      <td>0.0</td>\n",
       "      <td>...</td>\n",
       "      <td>0.0</td>\n",
       "      <td>0.0</td>\n",
       "      <td>0.0</td>\n",
       "      <td>0.0</td>\n",
       "      <td>1.0</td>\n",
       "      <td>0.0</td>\n",
       "      <td>1.0</td>\n",
       "      <td>1.0</td>\n",
       "      <td>0.0</td>\n",
       "      <td>223500</td>\n",
       "    </tr>\n",
       "    <tr>\n",
       "      <th>3</th>\n",
       "      <td>961.0</td>\n",
       "      <td>756.0</td>\n",
       "      <td>0.0</td>\n",
       "      <td>3.0</td>\n",
       "      <td>216.0</td>\n",
       "      <td>0.0</td>\n",
       "      <td>1.0</td>\n",
       "      <td>0.0</td>\n",
       "      <td>540.0</td>\n",
       "      <td>272.0</td>\n",
       "      <td>...</td>\n",
       "      <td>0.0</td>\n",
       "      <td>0.0</td>\n",
       "      <td>0.0</td>\n",
       "      <td>0.0</td>\n",
       "      <td>1.0</td>\n",
       "      <td>0.0</td>\n",
       "      <td>1.0</td>\n",
       "      <td>1.0</td>\n",
       "      <td>0.0</td>\n",
       "      <td>140000</td>\n",
       "    </tr>\n",
       "    <tr>\n",
       "      <th>4</th>\n",
       "      <td>1145.0</td>\n",
       "      <td>1053.0</td>\n",
       "      <td>0.0</td>\n",
       "      <td>4.0</td>\n",
       "      <td>655.0</td>\n",
       "      <td>0.0</td>\n",
       "      <td>1.0</td>\n",
       "      <td>0.0</td>\n",
       "      <td>490.0</td>\n",
       "      <td>0.0</td>\n",
       "      <td>...</td>\n",
       "      <td>0.0</td>\n",
       "      <td>0.0</td>\n",
       "      <td>0.0</td>\n",
       "      <td>0.0</td>\n",
       "      <td>1.0</td>\n",
       "      <td>0.0</td>\n",
       "      <td>1.0</td>\n",
       "      <td>1.0</td>\n",
       "      <td>0.0</td>\n",
       "      <td>250000</td>\n",
       "    </tr>\n",
       "  </tbody>\n",
       "</table>\n",
       "<p>5 rows × 271 columns</p>\n",
       "</div>"
      ],
      "text/plain": [
       "   1stFlrSF  2ndFlrSF  3SsnPorch  BedroomAbvGr  BsmtFinSF1  BsmtFinSF2  \\\n",
       "0     856.0     854.0        0.0           3.0       706.0         0.0   \n",
       "1    1262.0       0.0        0.0           3.0       978.0         0.0   \n",
       "2     920.0     866.0        0.0           3.0       486.0         0.0   \n",
       "3     961.0     756.0        0.0           3.0       216.0         0.0   \n",
       "4    1145.0    1053.0        0.0           4.0       655.0         0.0   \n",
       "\n",
       "   BsmtFullBath  BsmtHalfBath  BsmtUnfSF  EnclosedPorch    ...      \\\n",
       "0           1.0           0.0      150.0            0.0    ...       \n",
       "1           0.0           1.0      284.0            0.0    ...       \n",
       "2           1.0           0.0      434.0            0.0    ...       \n",
       "3           1.0           0.0      540.0          272.0    ...       \n",
       "4           1.0           0.0      490.0            0.0    ...       \n",
       "\n",
       "   SaleType_ConLI  SaleType_ConLw  SaleType_New  SaleType_Oth  SaleType_WD  \\\n",
       "0             0.0             0.0           0.0           0.0          1.0   \n",
       "1             0.0             0.0           0.0           0.0          1.0   \n",
       "2             0.0             0.0           0.0           0.0          1.0   \n",
       "3             0.0             0.0           0.0           0.0          1.0   \n",
       "4             0.0             0.0           0.0           0.0          1.0   \n",
       "\n",
       "   Street_Grvl  Street_Pave  Utilities_AllPub  Utilities_NoSeWa  SalePrice  \n",
       "0          0.0          1.0               1.0               0.0     208500  \n",
       "1          0.0          1.0               1.0               0.0     181500  \n",
       "2          0.0          1.0               1.0               0.0     223500  \n",
       "3          0.0          1.0               1.0               0.0     140000  \n",
       "4          0.0          1.0               1.0               0.0     250000  \n",
       "\n",
       "[5 rows x 271 columns]"
      ]
     },
     "execution_count": 18,
     "metadata": {},
     "output_type": "execute_result"
    }
   ],
   "source": [
    "# trainデータを確認\n",
    "df_train.head()"
   ]
  },
  {
   "cell_type": "code",
   "execution_count": 19,
   "metadata": {},
   "outputs": [
    {
     "data": {
      "text/html": [
       "<div>\n",
       "<style>\n",
       "    .dataframe thead tr:only-child th {\n",
       "        text-align: right;\n",
       "    }\n",
       "\n",
       "    .dataframe thead th {\n",
       "        text-align: left;\n",
       "    }\n",
       "\n",
       "    .dataframe tbody tr th {\n",
       "        vertical-align: top;\n",
       "    }\n",
       "</style>\n",
       "<table border=\"1\" class=\"dataframe\">\n",
       "  <thead>\n",
       "    <tr style=\"text-align: right;\">\n",
       "      <th></th>\n",
       "      <th>Id</th>\n",
       "      <th>1stFlrSF</th>\n",
       "      <th>2ndFlrSF</th>\n",
       "      <th>3SsnPorch</th>\n",
       "      <th>BedroomAbvGr</th>\n",
       "      <th>BsmtFinSF1</th>\n",
       "      <th>BsmtFinSF2</th>\n",
       "      <th>BsmtFullBath</th>\n",
       "      <th>BsmtHalfBath</th>\n",
       "      <th>BsmtUnfSF</th>\n",
       "      <th>...</th>\n",
       "      <th>SaleType_ConLD</th>\n",
       "      <th>SaleType_ConLI</th>\n",
       "      <th>SaleType_ConLw</th>\n",
       "      <th>SaleType_New</th>\n",
       "      <th>SaleType_Oth</th>\n",
       "      <th>SaleType_WD</th>\n",
       "      <th>Street_Grvl</th>\n",
       "      <th>Street_Pave</th>\n",
       "      <th>Utilities_AllPub</th>\n",
       "      <th>Utilities_NoSeWa</th>\n",
       "    </tr>\n",
       "  </thead>\n",
       "  <tbody>\n",
       "    <tr>\n",
       "      <th>0</th>\n",
       "      <td>1461</td>\n",
       "      <td>896</td>\n",
       "      <td>0</td>\n",
       "      <td>0</td>\n",
       "      <td>2</td>\n",
       "      <td>468</td>\n",
       "      <td>144</td>\n",
       "      <td>0</td>\n",
       "      <td>0</td>\n",
       "      <td>270</td>\n",
       "      <td>...</td>\n",
       "      <td>0</td>\n",
       "      <td>0</td>\n",
       "      <td>0</td>\n",
       "      <td>0</td>\n",
       "      <td>0</td>\n",
       "      <td>1</td>\n",
       "      <td>0</td>\n",
       "      <td>1</td>\n",
       "      <td>1</td>\n",
       "      <td>0</td>\n",
       "    </tr>\n",
       "    <tr>\n",
       "      <th>1</th>\n",
       "      <td>1462</td>\n",
       "      <td>1329</td>\n",
       "      <td>0</td>\n",
       "      <td>0</td>\n",
       "      <td>3</td>\n",
       "      <td>923</td>\n",
       "      <td>0</td>\n",
       "      <td>0</td>\n",
       "      <td>0</td>\n",
       "      <td>406</td>\n",
       "      <td>...</td>\n",
       "      <td>0</td>\n",
       "      <td>0</td>\n",
       "      <td>0</td>\n",
       "      <td>0</td>\n",
       "      <td>0</td>\n",
       "      <td>1</td>\n",
       "      <td>0</td>\n",
       "      <td>1</td>\n",
       "      <td>1</td>\n",
       "      <td>0</td>\n",
       "    </tr>\n",
       "    <tr>\n",
       "      <th>2</th>\n",
       "      <td>1463</td>\n",
       "      <td>928</td>\n",
       "      <td>701</td>\n",
       "      <td>0</td>\n",
       "      <td>3</td>\n",
       "      <td>791</td>\n",
       "      <td>0</td>\n",
       "      <td>0</td>\n",
       "      <td>0</td>\n",
       "      <td>137</td>\n",
       "      <td>...</td>\n",
       "      <td>0</td>\n",
       "      <td>0</td>\n",
       "      <td>0</td>\n",
       "      <td>0</td>\n",
       "      <td>0</td>\n",
       "      <td>1</td>\n",
       "      <td>0</td>\n",
       "      <td>1</td>\n",
       "      <td>1</td>\n",
       "      <td>0</td>\n",
       "    </tr>\n",
       "    <tr>\n",
       "      <th>3</th>\n",
       "      <td>1464</td>\n",
       "      <td>926</td>\n",
       "      <td>678</td>\n",
       "      <td>0</td>\n",
       "      <td>3</td>\n",
       "      <td>602</td>\n",
       "      <td>0</td>\n",
       "      <td>0</td>\n",
       "      <td>0</td>\n",
       "      <td>324</td>\n",
       "      <td>...</td>\n",
       "      <td>0</td>\n",
       "      <td>0</td>\n",
       "      <td>0</td>\n",
       "      <td>0</td>\n",
       "      <td>0</td>\n",
       "      <td>1</td>\n",
       "      <td>0</td>\n",
       "      <td>1</td>\n",
       "      <td>1</td>\n",
       "      <td>0</td>\n",
       "    </tr>\n",
       "    <tr>\n",
       "      <th>4</th>\n",
       "      <td>1465</td>\n",
       "      <td>1280</td>\n",
       "      <td>0</td>\n",
       "      <td>0</td>\n",
       "      <td>2</td>\n",
       "      <td>263</td>\n",
       "      <td>0</td>\n",
       "      <td>0</td>\n",
       "      <td>0</td>\n",
       "      <td>1017</td>\n",
       "      <td>...</td>\n",
       "      <td>0</td>\n",
       "      <td>0</td>\n",
       "      <td>0</td>\n",
       "      <td>0</td>\n",
       "      <td>0</td>\n",
       "      <td>1</td>\n",
       "      <td>0</td>\n",
       "      <td>1</td>\n",
       "      <td>1</td>\n",
       "      <td>0</td>\n",
       "    </tr>\n",
       "  </tbody>\n",
       "</table>\n",
       "<p>5 rows × 271 columns</p>\n",
       "</div>"
      ],
      "text/plain": [
       "     Id  1stFlrSF  2ndFlrSF  3SsnPorch  BedroomAbvGr  BsmtFinSF1  BsmtFinSF2  \\\n",
       "0  1461       896         0          0             2         468         144   \n",
       "1  1462      1329         0          0             3         923           0   \n",
       "2  1463       928       701          0             3         791           0   \n",
       "3  1464       926       678          0             3         602           0   \n",
       "4  1465      1280         0          0             2         263           0   \n",
       "\n",
       "   BsmtFullBath  BsmtHalfBath  BsmtUnfSF        ...         SaleType_ConLD  \\\n",
       "0             0             0        270        ...                      0   \n",
       "1             0             0        406        ...                      0   \n",
       "2             0             0        137        ...                      0   \n",
       "3             0             0        324        ...                      0   \n",
       "4             0             0       1017        ...                      0   \n",
       "\n",
       "   SaleType_ConLI  SaleType_ConLw  SaleType_New  SaleType_Oth  SaleType_WD  \\\n",
       "0               0               0             0             0            1   \n",
       "1               0               0             0             0            1   \n",
       "2               0               0             0             0            1   \n",
       "3               0               0             0             0            1   \n",
       "4               0               0             0             0            1   \n",
       "\n",
       "   Street_Grvl  Street_Pave  Utilities_AllPub  Utilities_NoSeWa  \n",
       "0            0            1                 1                 0  \n",
       "1            0            1                 1                 0  \n",
       "2            0            1                 1                 0  \n",
       "3            0            1                 1                 0  \n",
       "4            0            1                 1                 0  \n",
       "\n",
       "[5 rows x 271 columns]"
      ]
     },
     "execution_count": 19,
     "metadata": {},
     "output_type": "execute_result"
    }
   ],
   "source": [
    "# testデータを確認\n",
    "df_test.head()"
   ]
  },
  {
   "cell_type": "code",
   "execution_count": 20,
   "metadata": {},
   "outputs": [
    {
     "data": {
      "text/plain": [
       "array([[ 1710.,     7.],\n",
       "       [ 1262.,     6.],\n",
       "       [ 1786.,     7.],\n",
       "       [ 1717.,     7.],\n",
       "       [ 2198.,     8.],\n",
       "       [ 1362.,     5.],\n",
       "       [ 1694.,     8.],\n",
       "       [ 2090.,     7.],\n",
       "       [ 1774.,     7.],\n",
       "       [ 1077.,     5.]])"
      ]
     },
     "execution_count": 20,
     "metadata": {},
     "output_type": "execute_result"
    }
   ],
   "source": [
    "# trainデータを用意\n",
    "# DataFrameの.valuesメソッドでarrayに変換する\n",
    "X = df_train.loc[:,[\"GrLivArea\", \"OverallQual\"]].values\n",
    "X[:10]"
   ]
  },
  {
   "cell_type": "code",
   "execution_count": 21,
   "metadata": {},
   "outputs": [
    {
     "data": {
      "text/plain": [
       "array([[208500],\n",
       "       [181500],\n",
       "       [223500],\n",
       "       [140000],\n",
       "       [250000],\n",
       "       [143000],\n",
       "       [307000],\n",
       "       [200000],\n",
       "       [129900],\n",
       "       [118000]])"
      ]
     },
     "execution_count": 21,
     "metadata": {},
     "output_type": "execute_result"
    }
   ],
   "source": [
    "# testデータを用意\n",
    "# DataFrameの.valuesメソッドでarrayに変換する\n",
    "y = df_train.loc[:,[\"SalePrice\"]].values\n",
    "y[:10]"
   ]
  },
  {
   "cell_type": "code",
   "execution_count": 22,
   "metadata": {
    "collapsed": true
   },
   "outputs": [],
   "source": [
    "# ホールド・アウト法によるデータの分割\n",
    "# (X, y, テストにどの割合を割くか, 分割のしかたを決める乱数生成器)\n",
    "# テストデータの割合は、test_size引数に指定することで変更可能です（今回は、train:test = 7:3）\n",
    "from sklearn.model_selection import train_test_split\n",
    "X_train, X_test, y_train, y_test = train_test_split(X, y, test_size = 0.3, random_state = 0)"
   ]
  },
  {
   "cell_type": "code",
   "execution_count": 23,
   "metadata": {},
   "outputs": [
    {
     "name": "stdout",
     "output_type": "stream",
     "text": [
      "(1460, 2)\n",
      "(1460, 1)\n"
     ]
    }
   ],
   "source": [
    "# データ全体のサンプル数を確認\n",
    "print(X.shape)\n",
    "print(y.shape)"
   ]
  },
  {
   "cell_type": "code",
   "execution_count": 24,
   "metadata": {},
   "outputs": [
    {
     "name": "stdout",
     "output_type": "stream",
     "text": [
      "(1022, 2)\n",
      "(1022, 1)\n"
     ]
    }
   ],
   "source": [
    "# trainデータのサンプル数を確認\n",
    "print(X_train.shape)\n",
    "print(y_train.shape)"
   ]
  },
  {
   "cell_type": "code",
   "execution_count": 25,
   "metadata": {},
   "outputs": [
    {
     "name": "stdout",
     "output_type": "stream",
     "text": [
      "(438, 2)\n",
      "(438, 1)\n"
     ]
    }
   ],
   "source": [
    "# testデータのサンプル数を確認\n",
    "print(X_test.shape)\n",
    "print(y_test.shape)"
   ]
  },
  {
   "cell_type": "code",
   "execution_count": 26,
   "metadata": {
    "collapsed": true
   },
   "outputs": [],
   "source": [
    "# 重回帰の線形回帰を実行\n",
    "from sklearn.linear_model import LinearRegression\n",
    "lr = LinearRegression()"
   ]
  },
  {
   "cell_type": "code",
   "execution_count": 27,
   "metadata": {},
   "outputs": [
    {
     "data": {
      "text/plain": [
       "LinearRegression(copy_X=True, fit_intercept=True, n_jobs=1, normalize=False)"
      ]
     },
     "execution_count": 27,
     "metadata": {},
     "output_type": "execute_result"
    }
   ],
   "source": [
    "# 重回帰線形モデルの学習\n",
    "# trainデータのみを用いていることに注意\n",
    "lr.fit(X_train, y_train)"
   ]
  },
  {
   "cell_type": "code",
   "execution_count": 73,
   "metadata": {
    "collapsed": true
   },
   "outputs": [],
   "source": [
    "submission = pd.DataFrame()\n",
    "submission['Id'] = df_test.Id"
   ]
  },
  {
   "cell_type": "code",
   "execution_count": 74,
   "metadata": {},
   "outputs": [
    {
     "data": {
      "text/plain": [
       "array([[ 896,    5],\n",
       "       [1329,    6],\n",
       "       [1629,    5],\n",
       "       [1604,    6],\n",
       "       [1280,    8],\n",
       "       [1655,    6],\n",
       "       [1187,    6],\n",
       "       [1465,    6],\n",
       "       [1341,    7],\n",
       "       [ 882,    4]])"
      ]
     },
     "execution_count": 74,
     "metadata": {},
     "output_type": "execute_result"
    }
   ],
   "source": [
    "X1 = df_test.loc[:,[\"GrLivArea\", \"OverallQual\"]].values\n",
    "X1[:10]"
   ]
  },
  {
   "cell_type": "code",
   "execution_count": 75,
   "metadata": {
    "collapsed": true
   },
   "outputs": [],
   "source": [
    "predictions = lr.predict(X1)"
   ]
  },
  {
   "cell_type": "code",
   "execution_count": 76,
   "metadata": {},
   "outputs": [
    {
     "data": {
      "text/html": [
       "<div>\n",
       "<style>\n",
       "    .dataframe thead tr:only-child th {\n",
       "        text-align: right;\n",
       "    }\n",
       "\n",
       "    .dataframe thead th {\n",
       "        text-align: left;\n",
       "    }\n",
       "\n",
       "    .dataframe tbody tr th {\n",
       "        vertical-align: top;\n",
       "    }\n",
       "</style>\n",
       "<table border=\"1\" class=\"dataframe\">\n",
       "  <thead>\n",
       "    <tr style=\"text-align: right;\">\n",
       "      <th></th>\n",
       "      <th>Id</th>\n",
       "      <th>SalePrice</th>\n",
       "    </tr>\n",
       "  </thead>\n",
       "  <tbody>\n",
       "    <tr>\n",
       "      <th>0</th>\n",
       "      <td>1461</td>\n",
       "      <td>108157.209463</td>\n",
       "    </tr>\n",
       "    <tr>\n",
       "      <th>1</th>\n",
       "      <td>1462</td>\n",
       "      <td>166236.519043</td>\n",
       "    </tr>\n",
       "    <tr>\n",
       "      <th>2</th>\n",
       "      <td>1463</td>\n",
       "      <td>153140.377553</td>\n",
       "    </tr>\n",
       "    <tr>\n",
       "      <th>3</th>\n",
       "      <td>1464</td>\n",
       "      <td>183112.878150</td>\n",
       "    </tr>\n",
       "    <tr>\n",
       "      <th>4</th>\n",
       "      <td>1465</td>\n",
       "      <td>226242.888815</td>\n",
       "    </tr>\n",
       "  </tbody>\n",
       "</table>\n",
       "</div>"
      ],
      "text/plain": [
       "     Id      SalePrice\n",
       "0  1461  108157.209463\n",
       "1  1462  166236.519043\n",
       "2  1463  153140.377553\n",
       "3  1464  183112.878150\n",
       "4  1465  226242.888815"
      ]
     },
     "execution_count": 76,
     "metadata": {},
     "output_type": "execute_result"
    }
   ],
   "source": [
    "submission['SalePrice'] = predictions\n",
    "submission.head()"
   ]
  },
  {
   "cell_type": "code",
   "execution_count": 78,
   "metadata": {
    "collapsed": true
   },
   "outputs": [],
   "source": [
    "submission.to_csv('submission1.csv', index=False)"
   ]
  },
  {
   "cell_type": "code",
   "execution_count": null,
   "metadata": {
    "collapsed": true
   },
   "outputs": [],
   "source": []
  },
  {
   "cell_type": "code",
   "execution_count": 27,
   "metadata": {},
   "outputs": [
    {
     "data": {
      "text/plain": [
       "array([-87307.55336357])"
      ]
     },
     "execution_count": 27,
     "metadata": {},
     "output_type": "execute_result"
    }
   ],
   "source": [
    "# 定数項を出力\n",
    "lr.intercept_"
   ]
  },
  {
   "cell_type": "code",
   "execution_count": 28,
   "metadata": {},
   "outputs": [
    {
     "data": {
      "text/plain": [
       "array([[ 30239.25075522,  35291.49789569]])"
      ]
     },
     "execution_count": 28,
     "metadata": {},
     "output_type": "execute_result"
    }
   ],
   "source": [
    "# 偏回帰係数を出力\n",
    "# [GarageCarsの係数, OverallQualの係数]\n",
    "lr.coef_"
   ]
  },
  {
   "cell_type": "code",
   "execution_count": 29,
   "metadata": {
    "collapsed": true
   },
   "outputs": [],
   "source": [
    "# モデルの性能評価"
   ]
  },
  {
   "cell_type": "code",
   "execution_count": 30,
   "metadata": {
    "collapsed": true
   },
   "outputs": [],
   "source": [
    "# 自由度調整済み決定係数\n",
    "# (決定係数, trainまたはtestのサンプル数, 利用した特徴量の数)\n",
    "def adjusted(score, n_sample, n_features):\n",
    "    adjusted_score = 1 - (1 - score) * ((n_sample - 1) / (n_sample - n_features - 1))\n",
    "    return adjusted_score"
   ]
  },
  {
   "cell_type": "code",
   "execution_count": 31,
   "metadata": {},
   "outputs": [
    {
     "name": "stdout",
     "output_type": "stream",
     "text": [
      "adjusted R^2\n",
      "train: 0.665740\n",
      "test : 0.669501\n"
     ]
    }
   ],
   "source": [
    "# 自由度調整済み決定係数を出力\n",
    "print('adjusted R^2')\n",
    "print('train: %3f' % adjusted(lr.score(X_train, y_train), len(y_train), 2))\n",
    "print('test : %3f' % adjusted(lr.score(X_test, y_test), len(y_test), 2))"
   ]
  },
  {
   "cell_type": "code",
   "execution_count": 32,
   "metadata": {
    "collapsed": true
   },
   "outputs": [],
   "source": [
    "## 決定係数から、学習させたモデルはあまり当てはまりが良くない。\n",
    "## やっぱり多項式回帰で予測するのが良いか？？"
   ]
  },
  {
   "cell_type": "code",
   "execution_count": 33,
   "metadata": {},
   "outputs": [
    {
     "name": "stdout",
     "output_type": "stream",
     "text": [
      "RMSE\n",
      "train: 45110.009\n",
      "test : 47259.802\n"
     ]
    }
   ],
   "source": [
    "from sklearn.metrics import mean_squared_error as mse\n",
    "print('RMSE')\n",
    "print('train: %.3f' % (mse(y_train, lr.predict(X_train)) ** (1/2)))\n",
    "print('test : %.3f' % (mse(y_test, lr.predict(X_test)) ** (1/2)))"
   ]
  },
  {
   "cell_type": "code",
   "execution_count": 34,
   "metadata": {},
   "outputs": [
    {
     "data": {
      "text/plain": [
       "count      1460.000000\n",
       "mean     180921.195890\n",
       "std       79442.502883\n",
       "min       34900.000000\n",
       "25%      129975.000000\n",
       "50%      163000.000000\n",
       "75%      214000.000000\n",
       "max      755000.000000\n",
       "Name: SalePrice, dtype: float64"
      ]
     },
     "execution_count": 34,
     "metadata": {},
     "output_type": "execute_result"
    }
   ],
   "source": [
    "# 基本統計量をもう一度確認\n",
    "df_train.describe()[\"SalePrice\"]"
   ]
  },
  {
   "cell_type": "code",
   "execution_count": 35,
   "metadata": {
    "collapsed": true
   },
   "outputs": [],
   "source": [
    "## 標準偏差の値よりもRMSEの値が小さく25%~75%のあたりに位置するのかな？？"
   ]
  },
  {
   "cell_type": "code",
   "execution_count": 36,
   "metadata": {
    "collapsed": true
   },
   "outputs": [],
   "source": [
    "# 残差プロットを行う関数を定義\n",
    "def res_plot(y_train, y_train_pred, y_test, y_test_pred):\n",
    "    # train, testごとに残差を算出\n",
    "    res_train = y_train_pred - y_train\n",
    "    res_test  = y_test_pred - y_test\n",
    "    \n",
    "    # train, testごとに(予測値, 残差)をプロット\n",
    "    plt.figure(figsize=(8, 8))\n",
    "    plt.scatter(y_train_pred, res_train, color='blue', marker='o', label='train', alpha=0.5)\n",
    "    plt.scatter(y_test_pred, res_test, color='green', marker='s', label='test', alpha=0.5)\n",
    "    \n",
    "    plt.xlabel('Predicted Values')                  # x軸のラベルを表示\n",
    "    plt.ylabel('Residuals')                         # y軸のラベルを表示\n",
    "    plt.legend(loc='upper left')                    # 凡例を左上に表示\n",
    "    plt.hlines(y=0, xmin=-200000, xmax=500000, color='red') # 残差0の線を表示\n",
    "    plt.xlim([-200000, 500000])                             # 表示する横軸の範囲を指定\n",
    "    plt.show()"
   ]
  },
  {
   "cell_type": "code",
   "execution_count": 37,
   "metadata": {},
   "outputs": [
    {
     "data": {
      "image/png": "[encoded data removed]",
      "text/plain": [
       "<matplotlib.figure.Figure at 0x1a18bbbd68>"
      ]
     },
     "metadata": {},
     "output_type": "display_data"
    }
   ],
   "source": [
    "# 残差プロットを出力\n",
    "res_plot(y_train, lr.predict(X_train), y_test, lr.predict(X_test))"
   ]
  },
  {
   "cell_type": "code",
   "execution_count": 38,
   "metadata": {
    "collapsed": true
   },
   "outputs": [],
   "source": [
    "## x軸が最も高い時に外れ値が多数\n",
    "## x軸が最も低い時も外れ値が多数"
   ]
  },
  {
   "cell_type": "code",
   "execution_count": 79,
   "metadata": {},
   "outputs": [
    {
     "data": {
      "image/png": "[encoded data removed]",
      "text/plain": [
       "<matplotlib.figure.Figure at 0x1a1827aa90>"
      ]
     },
     "metadata": {},
     "output_type": "display_data"
    }
   ],
   "source": [
    "# 3次元のプロットをするためのライブラリを読み込み\n",
    "from mpl_toolkits.mplot3d import Axes3D\n",
    "\n",
    "# Axes3Dのインスタンスを生成\n",
    "ax = Axes3D(plt.figure(figsize=(8, 5)))\n",
    "\n",
    "# 3次元の散布図を出力\n",
    "# (x軸, y軸 , z軸)\n",
    "ax.scatter3D(df_train['GarageCars'], df_train['OverallQual'], df_train['SalePrice'])\n",
    "\n",
    "# # 回帰平面の方程式を定義\n",
    "X_grid, Y_grid = np.meshgrid(np.arange(0, 8, 2.5), np.arange(1, 10, 0.5))\n",
    "w0 = lr.intercept_\n",
    "w1 = lr.coef_[0, 0]\n",
    "w2 = lr.coef_[0, 1]\n",
    "Z = w0 + w1*X_grid + w2*Y_grid\n",
    "\n",
    "# 回帰平面を表示\n",
    "ax.plot_wireframe(X_grid, Y_grid, Z, alpha=0.3, color='red')\n",
    "\n",
    "# 座標軸のラベルを指定\n",
    "ax.set_xlabel('GarageCars')\n",
    "ax.set_ylabel('OverallQual')\n",
    "ax.set_zlabel('SalePrice')\n",
    "\n",
    "# ここまでの内容でグラフをプロット\n",
    "plt.show()"
   ]
  },
  {
   "cell_type": "code",
   "execution_count": 40,
   "metadata": {},
   "outputs": [
    {
     "name": "stderr",
     "output_type": "stream",
     "text": [
      "/Users/furukawakoichi/.pyenv/versions/anaconda3-5.0.0/lib/python3.6/site-packages/sklearn/utils/validation.py:444: DataConversionWarning: Data with input dtype int64 was converted to float64 by StandardScaler.\n",
      "  warnings.warn(msg, DataConversionWarning)\n"
     ]
    }
   ],
   "source": [
    "# 変数の標準化を実行\n",
    "from sklearn.preprocessing import StandardScaler\n",
    "ss = StandardScaler()\n",
    "X_std = ss.fit_transform(df_train) # すべての説明変数を変換\n",
    "y_std = ss.fit_transform(y)"
   ]
  },
  {
   "cell_type": "code",
   "execution_count": 41,
   "metadata": {},
   "outputs": [
    {
     "data": {
      "text/plain": [
       "array([[-0.79343379,  1.16185159, -0.11633929, ...,  0.02618016,\n",
       "        -0.02618016,  0.34727322],\n",
       "       [ 0.25714043, -0.79516323, -0.11633929, ...,  0.02618016,\n",
       "        -0.02618016,  0.00728832],\n",
       "       [-0.62782603,  1.18935062, -0.11633929, ...,  0.02618016,\n",
       "        -0.02618016,  0.53615372],\n",
       "       [-0.52173356,  0.93727612, -0.11633929, ...,  0.02618016,\n",
       "        -0.02618016, -0.51528106],\n",
       "       [-0.04561126,  1.61787729, -0.11633929, ...,  0.02618016,\n",
       "        -0.02618016,  0.8698426 ]])"
      ]
     },
     "execution_count": 41,
     "metadata": {},
     "output_type": "execute_result"
    }
   ],
   "source": [
    "# 標準化された説明変数を確認\n",
    "X_std[:5]"
   ]
  },
  {
   "cell_type": "code",
   "execution_count": 42,
   "metadata": {},
   "outputs": [
    {
     "data": {
      "text/plain": [
       "array([[ 0.34727322],\n",
       "       [ 0.00728832],\n",
       "       [ 0.53615372],\n",
       "       [-0.51528106],\n",
       "       [ 0.8698426 ],\n",
       "       [-0.47750496],\n",
       "       [ 1.5875885 ],\n",
       "       [ 0.24024094],\n",
       "       [-0.6424606 ],\n",
       "       [-0.79230579]])"
      ]
     },
     "execution_count": 42,
     "metadata": {},
     "output_type": "execute_result"
    }
   ],
   "source": [
    "# 標準化された目的変数を確認\n",
    "y_std[:10]"
   ]
  },
  {
   "cell_type": "code",
   "execution_count": 43,
   "metadata": {},
   "outputs": [
    {
     "data": {
      "text/plain": [
       "1.7909929494352421e-16"
      ]
     },
     "execution_count": 43,
     "metadata": {},
     "output_type": "execute_result"
    }
   ],
   "source": [
    "# 標準化した説明変数の平均を確認\n",
    "# arrayのmean()メソッドで出力できる\n",
    "X_std.mean()"
   ]
  },
  {
   "cell_type": "code",
   "execution_count": 44,
   "metadata": {},
   "outputs": [
    {
     "data": {
      "text/plain": [
       "1.3626846987180004e-16"
      ]
     },
     "execution_count": 44,
     "metadata": {},
     "output_type": "execute_result"
    }
   ],
   "source": [
    "# 標準化した目的変数の平均を確認\n",
    "# arrayのmean()メソッドで出力できる\n",
    "y_std.mean()"
   ]
  },
  {
   "cell_type": "code",
   "execution_count": 45,
   "metadata": {},
   "outputs": [
    {
     "data": {
      "text/plain": [
       "1.0"
      ]
     },
     "execution_count": 45,
     "metadata": {},
     "output_type": "execute_result"
    }
   ],
   "source": [
    "# 標準化した説明変数の標準偏差を確認\n",
    "# arrayのstd()メソッドで出力できる\n",
    "X_std.std()"
   ]
  },
  {
   "cell_type": "code",
   "execution_count": 46,
   "metadata": {},
   "outputs": [
    {
     "data": {
      "text/plain": [
       "0.99999999999999978"
      ]
     },
     "execution_count": 46,
     "metadata": {},
     "output_type": "execute_result"
    }
   ],
   "source": [
    "# 標準化した目的変数の標準偏差を確認\n",
    "# arrayのmean()メソッドで出力できる\n",
    "y_std.std()"
   ]
  },
  {
   "cell_type": "code",
   "execution_count": 47,
   "metadata": {},
   "outputs": [
    {
     "data": {
      "text/plain": [
       "LinearRegression(copy_X=True, fit_intercept=True, n_jobs=1, normalize=False)"
      ]
     },
     "execution_count": 47,
     "metadata": {},
     "output_type": "execute_result"
    }
   ],
   "source": [
    "# 標準化したデータで線形モデルを学習させる\n",
    "lr_std = LinearRegression()\n",
    "lr_std.fit(X_std, y_std)"
   ]
  },
  {
   "cell_type": "code",
   "execution_count": 48,
   "metadata": {},
   "outputs": [
    {
     "data": {
      "text/plain": [
       "array([[ -2.28033248e-06,  -2.57491346e-06,   6.24500451e-17,\n",
       "         -4.18502039e-17,  -3.04075868e-04,  -1.07549887e-04,\n",
       "         -1.22298005e-16,  -6.93889390e-17,  -2.94588118e-04,\n",
       "         -1.64798730e-17,  -2.98372438e-16,  -1.04083409e-16,\n",
       "         -5.20417043e-16,   2.08166817e-16,  -3.64291930e-16,\n",
       "          3.09960681e-06,   1.66533454e-16,   2.22044605e-16,\n",
       "          5.89805982e-17,   1.94289029e-16,  -2.86808869e-07,\n",
       "          6.07153217e-17,   0.00000000e+00,  -5.76795556e-17,\n",
       "          1.69135539e-17,   1.04083409e-17,   5.77662918e-16,\n",
       "         -2.35922393e-16,  -2.77555756e-16,   3.64291930e-17,\n",
       "         -5.55111512e-17,   2.92480291e-04,  -1.52655666e-16,\n",
       "          2.06432094e-16,  -1.59594560e-16,  -1.33573708e-16,\n",
       "         -2.37128663e-03,  -9.22349418e-04,  -1.18577289e-03,\n",
       "         -1.08172700e-03,  -1.71661725e-03,  -4.89141790e-04,\n",
       "         -5.83705888e-04,  -1.04675261e-04,  -8.56731573e-04,\n",
       "          2.67147415e-16,   2.01227923e-16,   5.46004214e-16,\n",
       "          3.26128013e-16,   1.35638617e-03,   1.14435018e-03,\n",
       "          1.71389089e-03,   8.31684569e-04,   1.09099422e-03,\n",
       "          1.72827962e-03,  -3.97685357e-16,  -7.49400542e-16,\n",
       "         -2.91433544e-16,  -5.62917768e-16,  -1.04690562e-15,\n",
       "         -1.30364469e-15,  -2.65058602e-04,  -1.47061972e-04,\n",
       "         -4.75017066e-04,  -4.77740110e-04,   7.76062130e-04,\n",
       "          7.76062130e-04,   9.76024960e-04,   1.25298998e-03,\n",
       "          1.88201564e-03,   4.04065023e-04,   6.20342803e-04,\n",
       "          4.73318514e-04,   7.23909384e-04,   2.02449504e-04,\n",
       "          3.19771280e-04,  -3.14099338e-04,  -5.43289223e-04,\n",
       "         -8.56352983e-04,  -2.22177926e-04,  -3.14099338e-04,\n",
       "         -2.22177926e-04,  -2.22177926e-04,  -3.14099338e-04,\n",
       "          1.93638508e-16,  -2.32452946e-16,  -6.93889390e-18,\n",
       "         -3.95733793e-18,  -2.11853105e-16,   2.91268296e-05,\n",
       "          8.82172138e-05,   1.92964280e-04,   1.68279208e-05,\n",
       "          2.10453826e-04,  -3.80973874e-04,  -2.00327402e-04,\n",
       "         -9.69695182e-04,  -9.97496029e-04,  -2.51747228e-04,\n",
       "         -5.66625480e-05,  -8.01054775e-05,  -3.93879169e-04,\n",
       "          4.17417854e-04,  -4.33353420e-04,  -7.77687760e-04,\n",
       "         -5.66625480e-05,  -7.74801829e-04,  -5.66850687e-04,\n",
       "         -8.01054775e-05,  -2.80972884e-04,  -1.03487518e-03,\n",
       "         -7.53964386e-04,  -2.86437387e-04,  -2.32487881e-04,\n",
       "         -9.05721085e-05,  -1.38161138e-04,  -2.59477694e-04,\n",
       "         -5.26408111e-04,  -3.97048645e-04,  -6.97693670e-04,\n",
       "         -1.64963581e-04,  -7.07408026e-04,  -5.23277090e-05,\n",
       "         -5.92660458e-04,  -1.16847809e-04,  -2.64524148e-04,\n",
       "         -9.50929432e-04,  -6.83343178e-04,  -3.18453240e-04,\n",
       "         -2.06221433e-03,  -3.40717424e-03,  -3.41473577e-03,\n",
       "         -8.74062587e-04,  -4.39761818e-04,  -3.11279194e-04,\n",
       "         -3.28397073e-05,  -1.96864593e-05,  -4.85789446e-05,\n",
       "         -5.08218342e-05,  -3.39805706e-05,  -8.81614571e-06,\n",
       "         -8.51178348e-05,  -1.66513049e-04,  -6.88645903e-04,\n",
       "         -3.52378558e-04,  -3.10982779e-04,  -1.29980641e-03,\n",
       "          1.07147002e-03,   1.13551720e-03,   1.23395567e-03,\n",
       "          3.51901196e-05,   1.38569710e-04,   7.57318392e-05,\n",
       "          3.51901196e-05,   2.35247393e-04,   7.80485989e-05,\n",
       "          5.98677470e-04,   1.38266215e-04,   2.90352570e-04,\n",
       "          9.54909565e-05,   5.38471381e-04,   3.28644422e-04,\n",
       "          1.83923707e-03,   1.38617321e-03,   8.67721676e-04,\n",
       "          4.64614093e-04,   6.56612736e-04,   2.02677563e-04,\n",
       "          7.30119034e-05,   1.50502079e-04,   1.06061990e-05,\n",
       "          1.84541420e-04,   8.26328047e-04,   2.62161377e-04,\n",
       "          1.34504522e-03,   1.98586100e-04,   2.32622158e-04,\n",
       "          1.23832195e-03,   4.22789173e-04,   5.54835610e-04,\n",
       "          7.78942679e-04,   4.97239234e-04,   1.51161283e-03,\n",
       "          1.54187341e-03,  -8.23156490e-04,  -7.36730225e-04,\n",
       "         -6.28232173e-04,  -1.22633298e-03,   9.84064380e-04,\n",
       "          9.02538987e-04,   4.11081688e-04,   1.20912093e-04,\n",
       "          7.72207588e-05,   5.55347471e-05,   1.64458177e-05,\n",
       "          1.41183109e-04,   3.18337357e-04,   1.11717998e-04,\n",
       "          5.57730016e-05,   3.25827529e-04,   1.73384650e-04,\n",
       "          4.33581185e-04,   2.18861934e-04,   8.58704121e-04,\n",
       "          7.49230917e-04,  -3.49113100e-17,  -5.20417043e-18,\n",
       "         -1.17961196e-16,  -1.07552856e-16,  -1.38658926e-04,\n",
       "         -4.78061716e-05,  -1.34565520e-04,  -2.52451648e-04,\n",
       "         -1.77272239e-04,  -3.92438388e-04,  -2.37318061e-04,\n",
       "         -3.26482314e-04,  -2.92415636e-04,  -2.03139097e-04,\n",
       "         -1.38658926e-04,  -2.32783264e-04,  -4.66675438e-04,\n",
       "         -1.01168467e-04,  -2.81701959e-04,  -2.13537096e-04,\n",
       "         -2.88899413e-04,  -3.45392757e-04,  -1.67681890e-04,\n",
       "         -2.83522599e-04,  -2.54527833e-04,  -3.04321614e-04,\n",
       "         -1.67681890e-04,  -2.05793571e-04,  -1.11768839e-04,\n",
       "         -1.88196549e-04,  -1.11009147e-04,  -2.14918173e-04,\n",
       "          5.74407930e-05,   2.90371529e-04,   5.74407930e-05,\n",
       "          5.74407930e-05,   5.74407930e-05,   1.89855558e-04,\n",
       "          1.28265329e-04,   1.40459336e-04,  -1.28235136e-04,\n",
       "         -5.64078124e-04,  -1.18040660e-04,  -5.41774000e-04,\n",
       "         -9.42937529e-05,  -5.04887773e-05,  -1.11819711e-04,\n",
       "         -2.30334310e-05,  -3.97853199e-05,  -5.12205449e-05,\n",
       "         -1.69093536e-04,  -1.23294468e-04,   5.24428442e-04,\n",
       "          1.62135370e-04,   1.14725734e-04,   2.42785109e-04,\n",
       "          1.81210594e-04,   1.81210594e-04,   8.58371040e-04,\n",
       "          1.40461560e-04,   1.05059190e-03,   1.71571744e-04,\n",
       "          1.71571744e-04,  -3.20214617e-05,  -3.20214617e-05,\n",
       "          1.00000000e+00]])"
      ]
     },
     "execution_count": 48,
     "metadata": {},
     "output_type": "execute_result"
    }
   ],
   "source": [
    "# 標準偏回帰係数を出力\n",
    "lr_std_coef = lr_std.coef_\n",
    "lr_std_coef"
   ]
  },
  {
   "cell_type": "code",
   "execution_count": 49,
   "metadata": {},
   "outputs": [
    {
     "data": {
      "text/plain": [
       "numpy.ndarray"
      ]
     },
     "execution_count": 49,
     "metadata": {},
     "output_type": "execute_result"
    }
   ],
   "source": [
    "type(lr_std.coef_)"
   ]
  },
  {
   "cell_type": "code",
   "execution_count": 50,
   "metadata": {
    "collapsed": true
   },
   "outputs": [],
   "source": [
    "# 標準編回帰係数を昇順で並び替える\n",
    "b = sorted(lr_std_coef[0])"
   ]
  },
  {
   "cell_type": "code",
   "execution_count": 51,
   "metadata": {},
   "outputs": [
    {
     "data": {
      "text/plain": [
       "[-0.0034147357672563404,\n",
       " -0.0034071742355352187,\n",
       " -0.0023712866309252879,\n",
       " -0.0020622143325941455,\n",
       " -0.0017166172494273799,\n",
       " -0.0012998064114377941,\n",
       " -0.0012263329826829629,\n",
       " -0.0011857728868869665,\n",
       " -0.0010817269991253778,\n",
       " -0.0010348751838562334,\n",
       " -0.00099749602924549194,\n",
       " -0.00096969518205841133,\n",
       " -0.00095092943152771253,\n",
       " -0.00092234941769702133,\n",
       " -0.00087406258689277927,\n",
       " -0.00085673157253807718,\n",
       " -0.00085635298272747871,\n",
       " -0.00082315649005152173,\n",
       " -0.00077768775979631527,\n",
       " -0.00077480182851656469,\n",
       " -0.0007539643864225903,\n",
       " -0.00073673022473903955,\n",
       " -0.00070740802560644023,\n",
       " -0.00069769367040669467,\n",
       " -0.00068864590286605784,\n",
       " -0.00068334317806383179,\n",
       " -0.0006282321733063756,\n",
       " -0.00059266045772424485,\n",
       " -0.00058370588779479548,\n",
       " -0.00056685068727228317,\n",
       " -0.00056407812433485055,\n",
       " -0.00054328922289388192,\n",
       " -0.00054177399956538766,\n",
       " -0.00052640811078995937,\n",
       " -0.00048914179023646709,\n",
       " -0.0004777401102604717,\n",
       " -0.00047501706641696687,\n",
       " -0.00046667543836295851,\n",
       " -0.000439761817504946,\n",
       " -0.00043335342039226097,\n",
       " -0.00039704864459718346,\n",
       " -0.00039387916854413283,\n",
       " -0.00039243838843580712,\n",
       " -0.00038097387350757156,\n",
       " -0.00035237855844522711,\n",
       " -0.00034539275685378616,\n",
       " -0.00032648231438537137,\n",
       " -0.00031845323959784743,\n",
       " -0.00031409933829837366,\n",
       " -0.00031409933829819455,\n",
       " -0.00031409933829819152,\n",
       " -0.00031127919427974791,\n",
       " -0.00031098277943264734,\n",
       " -0.00030432161374596613,\n",
       " -0.00030407586808668848,\n",
       " -0.0002945881175726861,\n",
       " -0.00029241563582977845,\n",
       " -0.00028889941263912991,\n",
       " -0.00028643738724711031,\n",
       " -0.00028352259894839568,\n",
       " -0.00028170195879828434,\n",
       " -0.00028097288375123451,\n",
       " -0.00026505860235006423,\n",
       " -0.00026452414810897509,\n",
       " -0.00025947769399202675,\n",
       " -0.00025452783281425034,\n",
       " -0.00025245164784349836,\n",
       " -0.00025174722837486771,\n",
       " -0.00023731806075684512,\n",
       " -0.00023278326385105068,\n",
       " -0.00023248788073546554,\n",
       " -0.00022217792560994985,\n",
       " -0.00022217792560989304,\n",
       " -0.00022217792560988089,\n",
       " -0.00021491817292606141,\n",
       " -0.00021353709604650384,\n",
       " -0.00020579357075672586,\n",
       " -0.00020313909734397985,\n",
       " -0.00020032740194270669,\n",
       " -0.00018819654923478164,\n",
       " -0.00017727223936649366,\n",
       " -0.00016909353567662669,\n",
       " -0.00016768189027010789,\n",
       " -0.00016768189026985028,\n",
       " -0.00016651304909596435,\n",
       " -0.00016496358110181289,\n",
       " -0.00014706197167106607,\n",
       " -0.0001386589261543076,\n",
       " -0.00013865892615426163,\n",
       " -0.00013816113805797795,\n",
       " -0.00013456552006556668,\n",
       " -0.00012823513564838573,\n",
       " -0.00012329446765736024,\n",
       " -0.00011804066000972203,\n",
       " -0.00011684780905655851,\n",
       " -0.00011181971106165832,\n",
       " -0.00011176883947328856,\n",
       " -0.00011100914654660408,\n",
       " -0.00010754988653263742,\n",
       " -0.0001046752608254934,\n",
       " -0.00010116846652821927,\n",
       " -9.4293752886479357e-05,\n",
       " -9.0572108474594459e-05,\n",
       " -8.5117834828889183e-05,\n",
       " -8.0105477548002898e-05,\n",
       " -8.0105477547739654e-05,\n",
       " -5.6662547995169933e-05,\n",
       " -5.6662547995164729e-05,\n",
       " -5.2327708970478694e-05,\n",
       " -5.1220544903414749e-05,\n",
       " -5.0821834183905484e-05,\n",
       " -5.0488777328573479e-05,\n",
       " -4.857894455512126e-05,\n",
       " -4.7806171602416368e-05,\n",
       " -3.9785319899630954e-05,\n",
       " -3.3980570556146894e-05,\n",
       " -3.2839707324736761e-05,\n",
       " -3.2021461734327988e-05,\n",
       " -3.2021461734267273e-05,\n",
       " -2.3033430971300742e-05,\n",
       " -1.9686459260665617e-05,\n",
       " -8.8161457126169178e-06,\n",
       " -2.5749134619501568e-06,\n",
       " -2.2803324803306212e-06,\n",
       " -2.8680886896351176e-07,\n",
       " -1.3036446921965705e-15,\n",
       " -1.0469056177520031e-15,\n",
       " -7.4940054162198066e-16,\n",
       " -5.629177679544739e-16,\n",
       " -5.2041704279304213e-16,\n",
       " -3.9768535686768303e-16,\n",
       " -3.6429192995512949e-16,\n",
       " -2.9837243786801082e-16,\n",
       " -2.9143354396410359e-16,\n",
       " -2.7755575615628914e-16,\n",
       " -2.3592239273284576e-16,\n",
       " -2.3245294578089215e-16,\n",
       " -2.1185310450366757e-16,\n",
       " -1.5959455978986625e-16,\n",
       " -1.5265566588595902e-16,\n",
       " -1.3357370765021415e-16,\n",
       " -1.222980050563649e-16,\n",
       " -1.1796119636642288e-16,\n",
       " -1.0755285551056204e-16,\n",
       " -1.0408340855860843e-16,\n",
       " -6.9388939039072284e-17,\n",
       " -5.7679555576228836e-17,\n",
       " -5.5511151231257827e-17,\n",
       " -4.1850203857940471e-17,\n",
       " -3.4911309954033243e-17,\n",
       " -1.6479873021779667e-17,\n",
       " -6.9388939039072284e-18,\n",
       " -5.2041704279304213e-18,\n",
       " -3.9573379295720912e-18,\n",
       " 0.0,\n",
       " 1.0408340855860843e-17,\n",
       " 1.6913553890773869e-17,\n",
       " 3.6429192995512949e-17,\n",
       " 5.8980598183211441e-17,\n",
       " 6.0715321659188248e-17,\n",
       " 6.2450045135165055e-17,\n",
       " 1.6653345369377348e-16,\n",
       " 1.9363850800591109e-16,\n",
       " 1.9428902930940239e-16,\n",
       " 2.0122792321330962e-16,\n",
       " 2.0643209364124004e-16,\n",
       " 2.0816681711721685e-16,\n",
       " 2.2204460492503131e-16,\n",
       " 2.6714741530042829e-16,\n",
       " 3.2612801348363973e-16,\n",
       " 5.4600421406370003e-16,\n",
       " 5.7766291750027676e-16,\n",
       " 3.0996068120792142e-06,\n",
       " 1.0606198961303839e-05,\n",
       " 1.6445817696392282e-05,\n",
       " 1.68279207571672e-05,\n",
       " 2.9126829632201458e-05,\n",
       " 3.5190119595172355e-05,\n",
       " 3.5190119595234805e-05,\n",
       " 5.553474710198042e-05,\n",
       " 5.5773001634945064e-05,\n",
       " 5.7440793042715446e-05,\n",
       " 5.7440793042938358e-05,\n",
       " 5.7440793043012084e-05,\n",
       " 5.7440793043030298e-05,\n",
       " 7.3011903432423919e-05,\n",
       " 7.5731839163088732e-05,\n",
       " 7.7220758839043925e-05,\n",
       " 7.8048598914696966e-05,\n",
       " 8.8217213760403718e-05,\n",
       " 9.5490956543611838e-05,\n",
       " 0.00011171799769189687,\n",
       " 0.00011472573385989189,\n",
       " 0.00012091209275781264,\n",
       " 0.00012826532920306652,\n",
       " 0.00013826621479972115,\n",
       " 0.00013856970953341884,\n",
       " 0.00014045933559330131,\n",
       " 0.00014046156010959557,\n",
       " 0.00014118310859832436,\n",
       " 0.0001505020785527722,\n",
       " 0.00016213537028192697,\n",
       " 0.00017157174422198452,\n",
       " 0.00017157174422202572,\n",
       " 0.00017338465019803599,\n",
       " 0.00018121059376793175,\n",
       " 0.00018121059376793739,\n",
       " 0.00018454141953340095,\n",
       " 0.00018985555845727441,\n",
       " 0.00019296427976670666,\n",
       " 0.00019858609993847996,\n",
       " 0.00020244950387956844,\n",
       " 0.00020267756268445292,\n",
       " 0.00021045382625593887,\n",
       " 0.00021886193441957242,\n",
       " 0.0002326221580346002,\n",
       " 0.00023524739317257008,\n",
       " 0.00024278510863606903,\n",
       " 0.00026216137691148413,\n",
       " 0.00029035257006729612,\n",
       " 0.00029037152868595026,\n",
       " 0.0002924802910779789,\n",
       " 0.00031833735746756957,\n",
       " 0.0003197712803550655,\n",
       " 0.00032582752880741528,\n",
       " 0.00032864442159860965,\n",
       " 0.00040406502333578849,\n",
       " 0.00041108168775160804,\n",
       " 0.00041741785382455425,\n",
       " 0.00042278917297529361,\n",
       " 0.00043358118462751049,\n",
       " 0.00046461409285448703,\n",
       " 0.00047331851395371154,\n",
       " 0.00049723923365242902,\n",
       " 0.00052442844222688571,\n",
       " 0.00053847138123495897,\n",
       " 0.00055483561043972486,\n",
       " 0.00059867747035964244,\n",
       " 0.00062034280275551773,\n",
       " 0.00065661273585918261,\n",
       " 0.0007239093844260535,\n",
       " 0.00074923091696976057,\n",
       " 0.00077606212993843252,\n",
       " 0.00077606212993885145,\n",
       " 0.0007789426794676535,\n",
       " 0.00082632804741827881,\n",
       " 0.00083168456913119992,\n",
       " 0.00085837103959770719,\n",
       " 0.00085870412078453001,\n",
       " 0.00086772167553207831,\n",
       " 0.00090253898723845032,\n",
       " 0.00097602495995425479,\n",
       " 0.00098406438012025969,\n",
       " 0.0010505918962030771,\n",
       " 0.0010714700235418678,\n",
       " 0.0010909942223650926,\n",
       " 0.0011355171964176226,\n",
       " 0.0011443501845243894,\n",
       " 0.0012339556704883924,\n",
       " 0.0012383219515259749,\n",
       " 0.0012529899843926086,\n",
       " 0.0013450452197594515,\n",
       " 0.0013563861662045582,\n",
       " 0.001386173211952264,\n",
       " 0.0015116128331564178,\n",
       " 0.0015418734093354744,\n",
       " 0.0017138908852281642,\n",
       " 0.0017282796206416137,\n",
       " 0.0018392370713259491,\n",
       " 0.0018820156365314863,\n",
       " 1.0000000000000002]"
      ]
     },
     "execution_count": 51,
     "metadata": {},
     "output_type": "execute_result"
    }
   ],
   "source": [
    "b"
   ]
  },
  {
   "cell_type": "code",
   "execution_count": 52,
   "metadata": {},
   "outputs": [
    {
     "name": "stdout",
     "output_type": "stream",
     "text": [
      "(array([0]), array([131]))\n",
      "(array([0]), array([130]))\n",
      "(array([0]), array([36]))\n"
     ]
    }
   ],
   "source": [
    "# 最も高い標準編回帰係数の2つの変数のindexを知る\n",
    "index_1 = np.where(lr_std_coef == -0.0034147357672563404)\n",
    "index_2 = np.where(lr_std_coef == -0.0034071742355352187)\n",
    "index_3 = np.where(lr_std_coef == -0.0023712866309252879)\n",
    "print(index_1)\n",
    "print(index_2)\n",
    "print(index_3)"
   ]
  },
  {
   "cell_type": "code",
   "execution_count": 53,
   "metadata": {
    "collapsed": true
   },
   "outputs": [],
   "source": [
    "# index69, 162の変数を求める"
   ]
  },
  {
   "cell_type": "code",
   "execution_count": 54,
   "metadata": {},
   "outputs": [
    {
     "name": "stdout",
     "output_type": "stream",
     "text": [
      "Foundation_PConc\n",
      "Foundation_CBlock\n",
      "BldgType_1Fam\n"
     ]
    }
   ],
   "source": [
    "print(df_train.corr().index[131])\n",
    "print(df_train.corr().index[130])\n",
    "print(df_train.corr().index[36])"
   ]
  },
  {
   "cell_type": "code",
   "execution_count": null,
   "metadata": {
    "collapsed": true
   },
   "outputs": [],
   "source": []
  },
  {
   "cell_type": "code",
   "execution_count": null,
   "metadata": {
    "collapsed": true
   },
   "outputs": [],
   "source": []
  },
  {
   "cell_type": "code",
   "execution_count": null,
   "metadata": {
    "collapsed": true
   },
   "outputs": [],
   "source": []
  },
  {
   "cell_type": "code",
   "execution_count": null,
   "metadata": {
    "collapsed": true
   },
   "outputs": [],
   "source": []
  }
 ],
 "metadata": {
  "kernelspec": {
   "display_name": "Python 3",
   "language": "python",
   "name": "python3"
  },
  "language_info": {
   "codemirror_mode": {
    "name": "ipython",
    "version": 3
   },
   "file_extension": ".py",
   "mimetype": "text/x-python",
   "name": "python",
   "nbconvert_exporter": "python",
   "pygments_lexer": "ipython3",
   "version": "3.6.2"
  }
 },
 "nbformat": 4,
 "nbformat_minor": 2
}
