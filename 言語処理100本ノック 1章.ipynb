{
 "cells": [
  {
   "cell_type": "code",
   "execution_count": 19,
   "metadata": {},
   "outputs": [
    {
     "data": {
      "text/plain": [
       "'desserts'"
      ]
     },
     "execution_count": 19,
     "metadata": {},
     "output_type": "execute_result"
    }
   ],
   "source": [
    "# 00.文字列の逆順\n",
    "str = \"stressed\"\n",
    "str[::-1]"
   ]
  },
  {
   "cell_type": "code",
   "execution_count": 16,
   "metadata": {},
   "outputs": [
    {
     "data": {
      "text/plain": [
       "'t'"
      ]
     },
     "execution_count": 16,
     "metadata": {},
     "output_type": "execute_result"
    }
   ],
   "source": [
    "# スライシング\n",
    "str[1]"
   ]
  },
  {
   "cell_type": "code",
   "execution_count": 17,
   "metadata": {},
   "outputs": [
    {
     "data": {
      "text/plain": [
       "'tres'"
      ]
     },
     "execution_count": 17,
     "metadata": {},
     "output_type": "execute_result"
    }
   ],
   "source": [
    "str[1:5:1]"
   ]
  },
  {
   "cell_type": "code",
   "execution_count": 18,
   "metadata": {},
   "outputs": [
    {
     "data": {
      "text/plain": [
       "'srse'"
      ]
     },
     "execution_count": 18,
     "metadata": {},
     "output_type": "execute_result"
    }
   ],
   "source": [
    "str[::2]"
   ]
  },
  {
   "cell_type": "code",
   "execution_count": 20,
   "metadata": {
    "collapsed": true
   },
   "outputs": [],
   "source": [
    "# 01.「パタトクカシーー」"
   ]
  },
  {
   "cell_type": "code",
   "execution_count": 25,
   "metadata": {},
   "outputs": [
    {
     "data": {
      "text/plain": [
       "'タクシー'"
      ]
     },
     "execution_count": 25,
     "metadata": {},
     "output_type": "execute_result"
    }
   ],
   "source": [
    "str1 = \"パタトクカシーー\"\n",
    "str1[1::2]"
   ]
  },
  {
   "cell_type": "code",
   "execution_count": 26,
   "metadata": {
    "collapsed": true
   },
   "outputs": [],
   "source": [
    "# 02.「パトカー」+「タクシー」=「パタトクカシーー」"
   ]
  },
  {
   "cell_type": "code",
   "execution_count": 51,
   "metadata": {},
   "outputs": [
    {
     "data": {
      "text/plain": [
       "'パタトクカシーー'"
      ]
     },
     "execution_count": 51,
     "metadata": {},
     "output_type": "execute_result"
    }
   ],
   "source": [
    "str2 = \"パトカー\"\n",
    "str3 = \"タクシー\"\n",
    "str4 = \"\"\n",
    "for i, j in zip(str2, str3):\n",
    "    str4 = str4 + i + j\n",
    "str4"
   ]
  },
  {
   "cell_type": "code",
   "execution_count": null,
   "metadata": {
    "collapsed": true
   },
   "outputs": [],
   "source": []
  },
  {
   "cell_type": "code",
   "execution_count": 76,
   "metadata": {},
   "outputs": [
    {
     "name": "stdout",
     "output_type": "stream",
     "text": [
      "パタトクカシーー\n"
     ]
    }
   ],
   "source": [
    "print(\"\".join([i + j for i, j in zip(str2, str3)]))"
   ]
  },
  {
   "cell_type": "code",
   "execution_count": 74,
   "metadata": {
    "collapsed": true
   },
   "outputs": [],
   "source": [
    "# 円周率"
   ]
  },
  {
   "cell_type": "code",
   "execution_count": 131,
   "metadata": {},
   "outputs": [
    {
     "name": "stdout",
     "output_type": "stream",
     "text": [
      "[3, 1, 4, 1, 6, 9, 2, 7, 5, 3, 5, 8, 9, 7, 10]\n"
     ]
    }
   ],
   "source": [
    "text = \"Now I need a drink, alcoholic of course, after the heavy lectures involving quantum mechanics.\"\n",
    "text_split = text.split()\n",
    "a = []\n",
    "for i in text_split:\n",
    "    a.append(len(i))\n",
    "print(a)"
   ]
  },
  {
   "cell_type": "code",
   "execution_count": 142,
   "metadata": {
    "collapsed": true
   },
   "outputs": [],
   "source": [
    "# 04.元素記号"
   ]
  },
  {
   "cell_type": "code",
   "execution_count": 159,
   "metadata": {},
   "outputs": [
    {
     "data": {
      "text/plain": [
       "['H',\n",
       " 'He',\n",
       " 'Li',\n",
       " 'Be',\n",
       " 'B',\n",
       " 'C',\n",
       " 'N',\n",
       " 'O',\n",
       " 'F',\n",
       " 'Ne',\n",
       " 'Na',\n",
       " 'Mi',\n",
       " 'Al',\n",
       " 'Si',\n",
       " 'P',\n",
       " 'S',\n",
       " 'Cl',\n",
       " 'Ar',\n",
       " 'K']"
      ]
     },
     "execution_count": 159,
     "metadata": {},
     "output_type": "execute_result"
    }
   ],
   "source": [
    "text = \"Hi He Lied Because Boron Could Not Oxidize Fluorine. New Nations Might Also Sign Peace Security Clause. Arthur King Can.\"\n",
    "text = text.replace(\".\",\"\")\n",
    "text_split = text.split()\n",
    "a = [text_split[0][0:1],\n",
    "text_split[1][0:2],\n",
    "text_split[2][0:2],\n",
    "text_split[3][0:2],\n",
    "text_split[4][0:1],\n",
    "text_split[5][0:1],\n",
    "text_split[6][0:1],\n",
    "text_split[7][0:1],\n",
    "text_split[8][0:1],\n",
    "text_split[9][0:2],\n",
    "text_split[10][0:2],\n",
    "text_split[11][0:2],\n",
    "text_split[12][0:2],\n",
    "text_split[13][0:2],\n",
    "text_split[14][0:1],\n",
    "text_split[15][0:1],\n",
    "text_split[16][0:2],\n",
    "text_split[17][0:2],\n",
    "text_split[18][0:1]]\n",
    "a"
   ]
  },
  {
   "cell_type": "code",
   "execution_count": 167,
   "metadata": {},
   "outputs": [
    {
     "name": "stdout",
     "output_type": "stream",
     "text": [
      "{'H': 1, 'He': 2, 'Li': 3, 'Be': 4, 'B': 5, 'C': 6, 'N': 7, 'O': 8, 'F': 9, 'Ne': 10, 'Na': 11, 'Mi': 12, 'Al': 13, 'Si': 14, 'P': 15, 'S': 16, 'Cl': 17, 'Ar': 18, 'K': 19, 'Ca': 20}\n"
     ]
    }
   ],
   "source": [
    "text = \"Hi He Lied Because Boron Could Not Oxidize Fluorine. New Nations Might Also Sign Peace Security Clause. Arthur King Can.\"\n",
    "text = text.replace(\".\",\"\")\n",
    "text_split = text.split()\n",
    "dict = {}\n",
    "for i, tex in enumerate(text_split):\n",
    "    n = i + 1\n",
    "    if n in [1,5,6,7,8,9,15,16,19]:\n",
    "        dict[tex[0:1]] = n\n",
    "    else:\n",
    "        dict[tex[0:2]] = n\n",
    "print(dict)"
   ]
  },
  {
   "cell_type": "code",
   "execution_count": 201,
   "metadata": {
    "collapsed": true
   },
   "outputs": [],
   "source": [
    "gram = \"I am an NLPer\"\n",
    "tango = gram.split()\n",
    "moji = gram.replace(\" \",\"\")"
   ]
  },
  {
   "cell_type": "code",
   "execution_count": 205,
   "metadata": {},
   "outputs": [
    {
     "name": "stdout",
     "output_type": "stream",
     "text": [
      "['Ia', 'am', 'ma', 'an', 'nN', 'NL', 'LP', 'Pe', 'er']\n",
      "[['I', 'am'], ['am', 'an'], ['an', 'NLPer']]\n"
     ]
    }
   ],
   "source": [
    "def ngram(text, n):\n",
    "    results = []\n",
    "    if len(text) >= n:\n",
    "        for i in range(len(text)-n+1):\n",
    "            results.append(text[i:i+n])\n",
    "    return results\n",
    "\n",
    "m = ngram(moji, 2)\n",
    "print(m)\n",
    "    \n",
    "t = ngram(tango, 2)\n",
    "print(t)"
   ]
  },
  {
   "cell_type": "code",
   "execution_count": 241,
   "metadata": {},
   "outputs": [
    {
     "name": "stdout",
     "output_type": "stream",
     "text": [
      "和集合 :  {'ar', 'ag', 'pa', 'ap', 'di', 'ph', 'ra', 'is', 'se', 'ad', 'gr'}\n",
      "積集合 :  {'ar', 'pa', 'ap', 'ra'}\n",
      "差集合 :  {'di', 'is', 'ad', 'se'}\n",
      "se in X :  True\n",
      "se in Y :  False\n"
     ]
    }
   ],
   "source": [
    "# 06.集合\n",
    "\n",
    "moji1 = \"paraparaparadise\"\n",
    "moji2 = \"paragraph\"\n",
    "\n",
    "X = ngram(moji1, 2)\n",
    "Y = ngram(moji2, 2)\n",
    "bigram = {\"se\"}\n",
    "\n",
    "X_set = set(X)\n",
    "Y_set = set(Y)\n",
    "\n",
    "wa = X_set | Y_set  # 和集合\n",
    "seki = X_set & Y_set  # 積集合\n",
    "sa = X_set - Y_set\n",
    "\n",
    "result1 = X_set.issuperset(bigram)\n",
    "result2 = Y_set.issuperset(bigram)\n",
    "\n",
    "print(\"和集合 : \", wa)\n",
    "print(\"積集合 : \", seki)\n",
    "print(\"差集合 : \", sa)\n",
    "print(\"se in X : \", result1)\n",
    "print(\"se in Y : \", result2)"
   ]
  },
  {
   "cell_type": "code",
   "execution_count": 245,
   "metadata": {},
   "outputs": [
    {
     "name": "stdout",
     "output_type": "stream",
     "text": [
      "12 時の 気温 は 22.4\n"
     ]
    }
   ],
   "source": [
    "x = 12\n",
    "y = \"気温\"\n",
    "z = 22.4\n",
    "print(x,\"時の\",y,\"は\",z)"
   ]
  },
  {
   "cell_type": "code",
   "execution_count": 253,
   "metadata": {},
   "outputs": [
    {
     "data": {
      "text/plain": [
       "'12時の気温は22.4'"
      ]
     },
     "execution_count": 253,
     "metadata": {},
     "output_type": "execute_result"
    }
   ],
   "source": [
    "# 07.テンプレートによる文生成\n",
    "def f(x,y,z):\n",
    "    result = \"{0}時の{1}は{2}\".format(x,y,z)\n",
    "    return result\n",
    "\n",
    "f(x = 12, y = \"気温\", z = 22.4 )"
   ]
  },
  {
   "cell_type": "code",
   "execution_count": 256,
   "metadata": {},
   "outputs": [
    {
     "data": {
      "text/plain": [
       "97"
      ]
     },
     "execution_count": 256,
     "metadata": {},
     "output_type": "execute_result"
    }
   ],
   "source": [
    "# 文字列からアスキー\n",
    "ord(\"a\")"
   ]
  },
  {
   "cell_type": "code",
   "execution_count": 260,
   "metadata": {},
   "outputs": [
    {
     "data": {
      "text/plain": [
       "'a'"
      ]
     },
     "execution_count": 260,
     "metadata": {},
     "output_type": "execute_result"
    }
   ],
   "source": [
    "# アスキーから文字列\n",
    "chr(97)"
   ]
  },
  {
   "cell_type": "code",
   "execution_count": 295,
   "metadata": {},
   "outputs": [
    {
     "data": {
      "text/plain": [
       "['1', '2', 'z', 'y', 'A', 'B']"
      ]
     },
     "execution_count": 295,
     "metadata": {},
     "output_type": "execute_result"
    }
   ],
   "source": [
    "tx = \"12abAB\"\n",
    "tx_list = list(tx)\n",
    "li = []\n",
    "for i in range(len(tx_list)):\n",
    "    tx_ord = ord(tx_list[i])\n",
    "    if 97<=tx_ord<=122:\n",
    "        x = 219-tx_ord\n",
    "        li.append(chr(x))\n",
    "    else:\n",
    "        li.append(chr(tx_ord))\n",
    "li"
   ]
  },
  {
   "cell_type": "code",
   "execution_count": 305,
   "metadata": {},
   "outputs": [
    {
     "data": {
      "text/plain": [
       "['1', '2', 'z', 'y', 'A', 'B']"
      ]
     },
     "execution_count": 305,
     "metadata": {},
     "output_type": "execute_result"
    }
   ],
   "source": [
    "# 08.暗号文\n",
    "def ango(tx):\n",
    "    tx_list = list(tx)\n",
    "    li = []\n",
    "    for i in range(len(tx_list)):\n",
    "        tx_ord = ord(tx_list[i])\n",
    "        if 97<=tx_ord<=122:\n",
    "            x = 219-tx_ord\n",
    "            li.append(chr(x))\n",
    "        else:\n",
    "            li.append(chr(tx_ord))\n",
    "    return li\n",
    "\n",
    "ango(\"12abAB\")"
   ]
  },
  {
   "cell_type": "code",
   "execution_count": 325,
   "metadata": {
    "collapsed": true
   },
   "outputs": [],
   "source": [
    "tt = \"I couldn't believe that I could actually understand what I was reading : the phenomenal power of the human mind .\""
   ]
  },
  {
   "cell_type": "code",
   "execution_count": 326,
   "metadata": {
    "collapsed": true
   },
   "outputs": [],
   "source": [
    "tt_split = tt.split()"
   ]
  },
  {
   "cell_type": "code",
   "execution_count": 331,
   "metadata": {},
   "outputs": [
    {
     "data": {
      "text/plain": [
       "['I',\n",
       " \"cdn'tluo\",\n",
       " 'beievel',\n",
       " 'that',\n",
       " 'I',\n",
       " 'cudol',\n",
       " 'alycatul',\n",
       " 'uendndsart',\n",
       " 'what',\n",
       " 'I',\n",
       " 'was',\n",
       " 'rinadge',\n",
       " ':',\n",
       " 'the',\n",
       " 'peonmahlen',\n",
       " 'powre',\n",
       " 'of',\n",
       " 'the',\n",
       " 'huamn',\n",
       " 'mind',\n",
       " '.']"
      ]
     },
     "execution_count": 331,
     "metadata": {},
     "output_type": "execute_result"
    }
   ],
   "source": [
    "import random\n",
    "tt = \"I couldn't believe that I could actually understand what I was reading : the phenomenal power of the human mind .\"\n",
    "tt_split = tt.split()\n",
    "lili = []\n",
    "for i in tt_split:\n",
    "    if len(i) >= 5:\n",
    "        a = i[0:1]\n",
    "        b = i[1:n-1]\n",
    "        b_random = random.sample(b,len(b))\n",
    "        bb = \"\".join(b_random)\n",
    "        c = i[-2:-2]\n",
    "        abc = a + bb + c\n",
    "        lili.append(abc)\n",
    "    else:\n",
    "        lili.append(i)\n",
    "lili"
   ]
  },
  {
   "cell_type": "code",
   "execution_count": 322,
   "metadata": {},
   "outputs": [
    {
     "data": {
      "text/plain": [
       "['d', 'c', 'f', 'b', 'e', 'a']"
      ]
     },
     "execution_count": 322,
     "metadata": {},
     "output_type": "execute_result"
    }
   ],
   "source": [
    "import random\n",
    "a = \"abcdef\"\n",
    "random.sample(a,len(a))"
   ]
  },
  {
   "cell_type": "code",
   "execution_count": 333,
   "metadata": {},
   "outputs": [
    {
     "data": {
      "text/plain": [
       "['I',\n",
       " \"cn'odutl\",\n",
       " 'beelvie',\n",
       " 'that',\n",
       " 'I',\n",
       " 'cludo',\n",
       " 'atlcylua',\n",
       " 'uneardndst',\n",
       " 'what',\n",
       " 'I',\n",
       " 'was',\n",
       " 'rdangie',\n",
       " ':',\n",
       " 'the',\n",
       " 'pnoehnmlae',\n",
       " 'prowe',\n",
       " 'of',\n",
       " 'the',\n",
       " 'hamun',\n",
       " 'mind',\n",
       " '.']"
      ]
     },
     "execution_count": 333,
     "metadata": {},
     "output_type": "execute_result"
    }
   ],
   "source": [
    "# 09. Typoglycemia\n",
    "import random\n",
    "\n",
    "def typo(tt):\n",
    "    tt_split = tt.split()\n",
    "    lili = []\n",
    "    for i in tt_split:\n",
    "        if len(i) >= 5:\n",
    "            a = i[0:1]\n",
    "            b = i[1:n-1]\n",
    "            b_random = random.sample(b,len(b))\n",
    "            bb = \"\".join(b_random)\n",
    "            c = i[-2:-2]\n",
    "            abc = a + bb + c\n",
    "            lili.append(abc)\n",
    "        else:\n",
    "            lili.append(i)\n",
    "    return lili\n",
    "\n",
    "tt = \"I couldn't believe that I could actually understand what I was reading : the phenomenal power of the human mind .\"\n",
    "typo(tt)"
   ]
  },
  {
   "cell_type": "code",
   "execution_count": 1,
   "metadata": {
    "collapsed": true
   },
   "outputs": [],
   "source": [
    "a = \"1\""
   ]
  },
  {
   "cell_type": "code",
   "execution_count": 2,
   "metadata": {},
   "outputs": [
    {
     "data": {
      "text/plain": [
       "'1'"
      ]
     },
     "execution_count": 2,
     "metadata": {},
     "output_type": "execute_result"
    }
   ],
   "source": [
    "a"
   ]
  },
  {
   "cell_type": "code",
   "execution_count": null,
   "metadata": {
    "collapsed": true
   },
   "outputs": [],
   "source": []
  }
 ],
 "metadata": {
  "kernelspec": {
   "display_name": "Python 3",
   "language": "python",
   "name": "python3"
  },
  "language_info": {
   "codemirror_mode": {
    "name": "ipython",
    "version": 3
   },
   "file_extension": ".py",
   "mimetype": "text/x-python",
   "name": "python",
   "nbconvert_exporter": "python",
   "pygments_lexer": "ipython3",
   "version": "3.6.2"
  }
 },
 "nbformat": 4,
 "nbformat_minor": 2
}
